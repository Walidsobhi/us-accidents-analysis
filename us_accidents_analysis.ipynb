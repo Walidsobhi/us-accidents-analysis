{
  "nbformat": 4,
  "nbformat_minor": 0,
  "metadata": {
    "kernelspec": {
      "display_name": "Python 3",
      "language": "python",
      "name": "python3"
    },
    "language_info": {
      "codemirror_mode": {
        "name": "ipython",
        "version": 3
      },
      "file_extension": ".py",
      "mimetype": "text/x-python",
      "name": "python",
      "nbconvert_exporter": "python",
      "pygments_lexer": "ipython3",
      "version": "3.7.6"
    },
    "colab": {
      "name": "us-accidents-analysis.ipynb",
      "provenance": [],
      "collapsed_sections": [],
      "include_colab_link": true
    }
  },
  "cells": [
    {
      "cell_type": "markdown",
      "metadata": {
        "id": "view-in-github",
        "colab_type": "text"
      },
      "source": [
        "<a href=\"https://colab.research.google.com/github/Walidsobhi/us-accidents-analysis/blob/main/us_accidents_analysis.ipynb\" target=\"_parent\"><img src=\"https://colab.research.google.com/assets/colab-badge.svg\" alt=\"Open In Colab\"/></a>"
      ]
    },
    {
      "cell_type": "code",
      "metadata": {
        "colab": {
          "base_uri": "https://localhost:8080/"
        },
        "id": "oP3r55fBnuEy",
        "outputId": "2c7045b2-e5fc-48af-a2f4-6011fd96686e"
      },
      "source": [
        "# Jovian Commit Essentials\n",
        "# Please retain and execute this cell without modifying the contents for `jovian.commit` to work\n",
        "!pip install jovian --upgrade -q\n",
        "import jovian\n",
        "jovian.set_project('us-accidents-analysis')\n",
        "jovian.set_colab_id('1hgBnuPplv2Zdtac20Zld_yMoCU74DVMl')"
      ],
      "execution_count": null,
      "outputs": [
        {
          "output_type": "stream",
          "name": "stdout",
          "text": [
            "\u001b[?25l\r\u001b[K     |████▊                           | 10 kB 23.3 MB/s eta 0:00:01\r\u001b[K     |█████████▌                      | 20 kB 8.7 MB/s eta 0:00:01\r\u001b[K     |██████████████▎                 | 30 kB 5.7 MB/s eta 0:00:01\r\u001b[K     |███████████████████             | 40 kB 5.3 MB/s eta 0:00:01\r\u001b[K     |███████████████████████▉        | 51 kB 2.7 MB/s eta 0:00:01\r\u001b[K     |████████████████████████████▋   | 61 kB 2.9 MB/s eta 0:00:01\r\u001b[K     |████████████████████████████████| 68 kB 2.1 MB/s \n",
            "\u001b[?25h  Building wheel for uuid (setup.py) ... \u001b[?25l\u001b[?25hdone\n"
          ]
        }
      ]
    },
    {
      "cell_type": "markdown",
      "metadata": {
        "id": "-nSKk91JnuE7"
      },
      "source": [
        "# us-accidents-analysis\n",
        "\n",
        "Use the \"Run\" button to execute the code."
      ]
    },
    {
      "cell_type": "code",
      "metadata": {
        "id": "T1FJzxQ-nuE_"
      },
      "source": [
        "!pip install jovian --upgrade --quiet"
      ],
      "execution_count": null,
      "outputs": []
    },
    {
      "cell_type": "code",
      "metadata": {
        "id": "ealXpXMJnuFB"
      },
      "source": [
        "import jovian"
      ],
      "execution_count": null,
      "outputs": []
    },
    {
      "cell_type": "code",
      "metadata": {
        "colab": {
          "base_uri": "https://localhost:8080/",
          "height": 119
        },
        "id": "au6EBNqpnuFC",
        "outputId": "2ee9a88f-2a8d-4832-83e1-5cab5d5f6088"
      },
      "source": [
        "# Execute this to save new versions of the notebook\n",
        "jovian.commit(project=\"us-accidents-analysis\")"
      ],
      "execution_count": null,
      "outputs": [
        {
          "output_type": "stream",
          "name": "stdout",
          "text": [
            "[jovian] Detected Colab notebook...\u001b[0m\n",
            "[jovian] Please enter your API key ( from https://jovian.ai/ ):\u001b[0m\n",
            "API KEY: ··········\n",
            "[jovian] Uploading colab notebook to Jovian...\u001b[0m\n",
            "Committed successfully! https://jovian.ai/walidsobhi56/us-accidents-analysis\n"
          ]
        },
        {
          "output_type": "execute_result",
          "data": {
            "application/vnd.google.colaboratory.intrinsic+json": {
              "type": "string"
            },
            "text/plain": [
              "'https://jovian.ai/walidsobhi56/us-accidents-analysis'"
            ]
          },
          "metadata": {},
          "execution_count": 5
        }
      ]
    },
    {
      "cell_type": "markdown",
      "metadata": {
        "id": "1yzIt3cRoxYb"
      },
      "source": [
        "## US Accidents Exploratory Data Analysis\n",
        "\n",
        " TODO - talk about EDA\n",
        "\n",
        " TODO - talk about the dataset (source, what it contains, how it will be useful)\n",
        "\n",
        " - Kaggle\n",
        " - Informaiton about accidents\n",
        " - Can use useful to prevent accidents\n",
        " - Notice that this does not contain data about New York"
      ]
    },
    {
      "cell_type": "code",
      "metadata": {
        "id": "UBBQIvI8oxGd"
      },
      "source": [
        "pip install opendatasets --upgrade --quiet\n"
      ],
      "execution_count": null,
      "outputs": []
    },
    {
      "cell_type": "code",
      "metadata": {
        "colab": {
          "base_uri": "https://localhost:8080/"
        },
        "id": "NjFXU2_-sWME",
        "outputId": "006888aa-c0d3-4311-9a83-ae893b48ec88"
      },
      "source": [
        "import opendatasets as od\n",
        "\n",
        "download_url = 'https://www.kaggle.com/sobhanmoosavi/us-accidents'\n",
        "od.download(download_url) "
      ],
      "execution_count": null,
      "outputs": [
        {
          "output_type": "stream",
          "name": "stdout",
          "text": [
            "Skipping, found downloaded files in \"./us-accidents\" (use force=True to force download)\n"
          ]
        }
      ]
    },
    {
      "cell_type": "code",
      "metadata": {
        "id": "j42RO6SesWIq"
      },
      "source": [
        "data_filename = './us-accidents/US_Accidents_Dec20_updated.csv'"
      ],
      "execution_count": null,
      "outputs": []
    },
    {
      "cell_type": "markdown",
      "metadata": {
        "id": "n_sxtnLrpVBa"
      },
      "source": [
        "## Data Prepration and Cleaning\n",
        "\n",
        "1. Load the file using Pandas\n",
        "2. Look at some information about the data & the columns\n",
        "3. Fix any missing or incorrect values"
      ]
    },
    {
      "cell_type": "code",
      "metadata": {
        "id": "y1ifpM6upFyg"
      },
      "source": [
        "import pandas as pd"
      ],
      "execution_count": null,
      "outputs": []
    },
    {
      "cell_type": "code",
      "metadata": {
        "id": "WuJeh7XNpFwB"
      },
      "source": [
        "df = pd.read_csv(data_filename)"
      ],
      "execution_count": null,
      "outputs": []
    },
    {
      "cell_type": "code",
      "metadata": {
        "colab": {
          "base_uri": "https://localhost:8080/",
          "height": 874
        },
        "id": "7nD4g_1vpFtD",
        "outputId": "5ba22a0a-4ffe-458c-8a11-2579e8e786f2"
      },
      "source": [
        "df"
      ],
      "execution_count": null,
      "outputs": [
        {
          "output_type": "execute_result",
          "data": {
            "text/html": [
              "<div>\n",
              "<style scoped>\n",
              "    .dataframe tbody tr th:only-of-type {\n",
              "        vertical-align: middle;\n",
              "    }\n",
              "\n",
              "    .dataframe tbody tr th {\n",
              "        vertical-align: top;\n",
              "    }\n",
              "\n",
              "    .dataframe thead th {\n",
              "        text-align: right;\n",
              "    }\n",
              "</style>\n",
              "<table border=\"1\" class=\"dataframe\">\n",
              "  <thead>\n",
              "    <tr style=\"text-align: right;\">\n",
              "      <th></th>\n",
              "      <th>ID</th>\n",
              "      <th>Severity</th>\n",
              "      <th>Start_Time</th>\n",
              "      <th>End_Time</th>\n",
              "      <th>Start_Lat</th>\n",
              "      <th>Start_Lng</th>\n",
              "      <th>End_Lat</th>\n",
              "      <th>End_Lng</th>\n",
              "      <th>Distance(mi)</th>\n",
              "      <th>Description</th>\n",
              "      <th>Number</th>\n",
              "      <th>Street</th>\n",
              "      <th>Side</th>\n",
              "      <th>City</th>\n",
              "      <th>County</th>\n",
              "      <th>State</th>\n",
              "      <th>Zipcode</th>\n",
              "      <th>Country</th>\n",
              "      <th>Timezone</th>\n",
              "      <th>Airport_Code</th>\n",
              "      <th>Weather_Timestamp</th>\n",
              "      <th>Temperature(F)</th>\n",
              "      <th>Wind_Chill(F)</th>\n",
              "      <th>Humidity(%)</th>\n",
              "      <th>Pressure(in)</th>\n",
              "      <th>Visibility(mi)</th>\n",
              "      <th>Wind_Direction</th>\n",
              "      <th>Wind_Speed(mph)</th>\n",
              "      <th>Precipitation(in)</th>\n",
              "      <th>Weather_Condition</th>\n",
              "      <th>Amenity</th>\n",
              "      <th>Bump</th>\n",
              "      <th>Crossing</th>\n",
              "      <th>Give_Way</th>\n",
              "      <th>Junction</th>\n",
              "      <th>No_Exit</th>\n",
              "      <th>Railway</th>\n",
              "      <th>Roundabout</th>\n",
              "      <th>Station</th>\n",
              "      <th>Stop</th>\n",
              "      <th>Traffic_Calming</th>\n",
              "      <th>Traffic_Signal</th>\n",
              "      <th>Turning_Loop</th>\n",
              "      <th>Sunrise_Sunset</th>\n",
              "      <th>Civil_Twilight</th>\n",
              "      <th>Nautical_Twilight</th>\n",
              "      <th>Astronomical_Twilight</th>\n",
              "    </tr>\n",
              "  </thead>\n",
              "  <tbody>\n",
              "    <tr>\n",
              "      <th>0</th>\n",
              "      <td>A-2716600</td>\n",
              "      <td>3</td>\n",
              "      <td>2016-02-08 00:37:08</td>\n",
              "      <td>2016-02-08 06:37:08</td>\n",
              "      <td>40.10891</td>\n",
              "      <td>-83.09286</td>\n",
              "      <td>40.11206</td>\n",
              "      <td>-83.03187</td>\n",
              "      <td>3.230</td>\n",
              "      <td>Between Sawmill Rd/Exit 20 and OH-315/Olentang...</td>\n",
              "      <td>NaN</td>\n",
              "      <td>Outerbelt E</td>\n",
              "      <td>R</td>\n",
              "      <td>Dublin</td>\n",
              "      <td>Franklin</td>\n",
              "      <td>OH</td>\n",
              "      <td>43017</td>\n",
              "      <td>US</td>\n",
              "      <td>US/Eastern</td>\n",
              "      <td>KOSU</td>\n",
              "      <td>2016-02-08 00:53:00</td>\n",
              "      <td>42.1</td>\n",
              "      <td>36.1</td>\n",
              "      <td>58.0</td>\n",
              "      <td>29.76</td>\n",
              "      <td>10.0</td>\n",
              "      <td>SW</td>\n",
              "      <td>10.4</td>\n",
              "      <td>0.00</td>\n",
              "      <td>Light Rain</td>\n",
              "      <td>False</td>\n",
              "      <td>False</td>\n",
              "      <td>False</td>\n",
              "      <td>False</td>\n",
              "      <td>False</td>\n",
              "      <td>False</td>\n",
              "      <td>False</td>\n",
              "      <td>False</td>\n",
              "      <td>False</td>\n",
              "      <td>False</td>\n",
              "      <td>False</td>\n",
              "      <td>False</td>\n",
              "      <td>False</td>\n",
              "      <td>Night</td>\n",
              "      <td>Night</td>\n",
              "      <td>Night</td>\n",
              "      <td>Night</td>\n",
              "    </tr>\n",
              "    <tr>\n",
              "      <th>1</th>\n",
              "      <td>A-2716601</td>\n",
              "      <td>2</td>\n",
              "      <td>2016-02-08 05:56:20</td>\n",
              "      <td>2016-02-08 11:56:20</td>\n",
              "      <td>39.86542</td>\n",
              "      <td>-84.06280</td>\n",
              "      <td>39.86501</td>\n",
              "      <td>-84.04873</td>\n",
              "      <td>0.747</td>\n",
              "      <td>At OH-4/OH-235/Exit 41 - Accident.</td>\n",
              "      <td>NaN</td>\n",
              "      <td>I-70 E</td>\n",
              "      <td>R</td>\n",
              "      <td>Dayton</td>\n",
              "      <td>Montgomery</td>\n",
              "      <td>OH</td>\n",
              "      <td>45424</td>\n",
              "      <td>US</td>\n",
              "      <td>US/Eastern</td>\n",
              "      <td>KFFO</td>\n",
              "      <td>2016-02-08 05:58:00</td>\n",
              "      <td>36.9</td>\n",
              "      <td>NaN</td>\n",
              "      <td>91.0</td>\n",
              "      <td>29.68</td>\n",
              "      <td>10.0</td>\n",
              "      <td>Calm</td>\n",
              "      <td>NaN</td>\n",
              "      <td>0.02</td>\n",
              "      <td>Light Rain</td>\n",
              "      <td>False</td>\n",
              "      <td>False</td>\n",
              "      <td>False</td>\n",
              "      <td>False</td>\n",
              "      <td>False</td>\n",
              "      <td>False</td>\n",
              "      <td>False</td>\n",
              "      <td>False</td>\n",
              "      <td>False</td>\n",
              "      <td>False</td>\n",
              "      <td>False</td>\n",
              "      <td>False</td>\n",
              "      <td>False</td>\n",
              "      <td>Night</td>\n",
              "      <td>Night</td>\n",
              "      <td>Night</td>\n",
              "      <td>Night</td>\n",
              "    </tr>\n",
              "    <tr>\n",
              "      <th>2</th>\n",
              "      <td>A-2716602</td>\n",
              "      <td>2</td>\n",
              "      <td>2016-02-08 06:15:39</td>\n",
              "      <td>2016-02-08 12:15:39</td>\n",
              "      <td>39.10266</td>\n",
              "      <td>-84.52468</td>\n",
              "      <td>39.10209</td>\n",
              "      <td>-84.52396</td>\n",
              "      <td>0.055</td>\n",
              "      <td>At I-71/US-50/Exit 1 - Accident.</td>\n",
              "      <td>NaN</td>\n",
              "      <td>I-75 S</td>\n",
              "      <td>R</td>\n",
              "      <td>Cincinnati</td>\n",
              "      <td>Hamilton</td>\n",
              "      <td>OH</td>\n",
              "      <td>45203</td>\n",
              "      <td>US</td>\n",
              "      <td>US/Eastern</td>\n",
              "      <td>KLUK</td>\n",
              "      <td>2016-02-08 05:53:00</td>\n",
              "      <td>36.0</td>\n",
              "      <td>NaN</td>\n",
              "      <td>97.0</td>\n",
              "      <td>29.70</td>\n",
              "      <td>10.0</td>\n",
              "      <td>Calm</td>\n",
              "      <td>NaN</td>\n",
              "      <td>0.02</td>\n",
              "      <td>Overcast</td>\n",
              "      <td>False</td>\n",
              "      <td>False</td>\n",
              "      <td>False</td>\n",
              "      <td>False</td>\n",
              "      <td>True</td>\n",
              "      <td>False</td>\n",
              "      <td>False</td>\n",
              "      <td>False</td>\n",
              "      <td>False</td>\n",
              "      <td>False</td>\n",
              "      <td>False</td>\n",
              "      <td>False</td>\n",
              "      <td>False</td>\n",
              "      <td>Night</td>\n",
              "      <td>Night</td>\n",
              "      <td>Night</td>\n",
              "      <td>Day</td>\n",
              "    </tr>\n",
              "    <tr>\n",
              "      <th>3</th>\n",
              "      <td>A-2716603</td>\n",
              "      <td>2</td>\n",
              "      <td>2016-02-08 06:15:39</td>\n",
              "      <td>2016-02-08 12:15:39</td>\n",
              "      <td>39.10148</td>\n",
              "      <td>-84.52341</td>\n",
              "      <td>39.09841</td>\n",
              "      <td>-84.52241</td>\n",
              "      <td>0.219</td>\n",
              "      <td>At I-71/US-50/Exit 1 - Accident.</td>\n",
              "      <td>NaN</td>\n",
              "      <td>US-50 E</td>\n",
              "      <td>R</td>\n",
              "      <td>Cincinnati</td>\n",
              "      <td>Hamilton</td>\n",
              "      <td>OH</td>\n",
              "      <td>45202</td>\n",
              "      <td>US</td>\n",
              "      <td>US/Eastern</td>\n",
              "      <td>KLUK</td>\n",
              "      <td>2016-02-08 05:53:00</td>\n",
              "      <td>36.0</td>\n",
              "      <td>NaN</td>\n",
              "      <td>97.0</td>\n",
              "      <td>29.70</td>\n",
              "      <td>10.0</td>\n",
              "      <td>Calm</td>\n",
              "      <td>NaN</td>\n",
              "      <td>0.02</td>\n",
              "      <td>Overcast</td>\n",
              "      <td>False</td>\n",
              "      <td>False</td>\n",
              "      <td>False</td>\n",
              "      <td>False</td>\n",
              "      <td>True</td>\n",
              "      <td>False</td>\n",
              "      <td>False</td>\n",
              "      <td>False</td>\n",
              "      <td>False</td>\n",
              "      <td>False</td>\n",
              "      <td>False</td>\n",
              "      <td>False</td>\n",
              "      <td>False</td>\n",
              "      <td>Night</td>\n",
              "      <td>Night</td>\n",
              "      <td>Night</td>\n",
              "      <td>Day</td>\n",
              "    </tr>\n",
              "    <tr>\n",
              "      <th>4</th>\n",
              "      <td>A-2716604</td>\n",
              "      <td>2</td>\n",
              "      <td>2016-02-08 06:51:45</td>\n",
              "      <td>2016-02-08 12:51:45</td>\n",
              "      <td>41.06213</td>\n",
              "      <td>-81.53784</td>\n",
              "      <td>41.06217</td>\n",
              "      <td>-81.53547</td>\n",
              "      <td>0.123</td>\n",
              "      <td>At Dart Ave/Exit 21 - Accident.</td>\n",
              "      <td>NaN</td>\n",
              "      <td>I-77 N</td>\n",
              "      <td>R</td>\n",
              "      <td>Akron</td>\n",
              "      <td>Summit</td>\n",
              "      <td>OH</td>\n",
              "      <td>44311</td>\n",
              "      <td>US</td>\n",
              "      <td>US/Eastern</td>\n",
              "      <td>KAKR</td>\n",
              "      <td>2016-02-08 06:54:00</td>\n",
              "      <td>39.0</td>\n",
              "      <td>NaN</td>\n",
              "      <td>55.0</td>\n",
              "      <td>29.65</td>\n",
              "      <td>10.0</td>\n",
              "      <td>Calm</td>\n",
              "      <td>NaN</td>\n",
              "      <td>NaN</td>\n",
              "      <td>Overcast</td>\n",
              "      <td>False</td>\n",
              "      <td>False</td>\n",
              "      <td>False</td>\n",
              "      <td>False</td>\n",
              "      <td>False</td>\n",
              "      <td>False</td>\n",
              "      <td>False</td>\n",
              "      <td>False</td>\n",
              "      <td>False</td>\n",
              "      <td>False</td>\n",
              "      <td>False</td>\n",
              "      <td>False</td>\n",
              "      <td>False</td>\n",
              "      <td>Night</td>\n",
              "      <td>Night</td>\n",
              "      <td>Day</td>\n",
              "      <td>Day</td>\n",
              "    </tr>\n",
              "    <tr>\n",
              "      <th>...</th>\n",
              "      <td>...</td>\n",
              "      <td>...</td>\n",
              "      <td>...</td>\n",
              "      <td>...</td>\n",
              "      <td>...</td>\n",
              "      <td>...</td>\n",
              "      <td>...</td>\n",
              "      <td>...</td>\n",
              "      <td>...</td>\n",
              "      <td>...</td>\n",
              "      <td>...</td>\n",
              "      <td>...</td>\n",
              "      <td>...</td>\n",
              "      <td>...</td>\n",
              "      <td>...</td>\n",
              "      <td>...</td>\n",
              "      <td>...</td>\n",
              "      <td>...</td>\n",
              "      <td>...</td>\n",
              "      <td>...</td>\n",
              "      <td>...</td>\n",
              "      <td>...</td>\n",
              "      <td>...</td>\n",
              "      <td>...</td>\n",
              "      <td>...</td>\n",
              "      <td>...</td>\n",
              "      <td>...</td>\n",
              "      <td>...</td>\n",
              "      <td>...</td>\n",
              "      <td>...</td>\n",
              "      <td>...</td>\n",
              "      <td>...</td>\n",
              "      <td>...</td>\n",
              "      <td>...</td>\n",
              "      <td>...</td>\n",
              "      <td>...</td>\n",
              "      <td>...</td>\n",
              "      <td>...</td>\n",
              "      <td>...</td>\n",
              "      <td>...</td>\n",
              "      <td>...</td>\n",
              "      <td>...</td>\n",
              "      <td>...</td>\n",
              "      <td>...</td>\n",
              "      <td>...</td>\n",
              "      <td>...</td>\n",
              "      <td>...</td>\n",
              "    </tr>\n",
              "    <tr>\n",
              "      <th>1516059</th>\n",
              "      <td>A-4239402</td>\n",
              "      <td>2</td>\n",
              "      <td>2019-08-23 18:03:25</td>\n",
              "      <td>2019-08-23 18:32:01</td>\n",
              "      <td>34.00248</td>\n",
              "      <td>-117.37936</td>\n",
              "      <td>33.99888</td>\n",
              "      <td>-117.37094</td>\n",
              "      <td>0.543</td>\n",
              "      <td>At Market St - Accident.</td>\n",
              "      <td>NaN</td>\n",
              "      <td>Pomona Fwy E</td>\n",
              "      <td>R</td>\n",
              "      <td>Riverside</td>\n",
              "      <td>Riverside</td>\n",
              "      <td>CA</td>\n",
              "      <td>92501</td>\n",
              "      <td>US</td>\n",
              "      <td>US/Pacific</td>\n",
              "      <td>KRAL</td>\n",
              "      <td>2019-08-23 17:53:00</td>\n",
              "      <td>86.0</td>\n",
              "      <td>86.0</td>\n",
              "      <td>40.0</td>\n",
              "      <td>28.92</td>\n",
              "      <td>10.0</td>\n",
              "      <td>W</td>\n",
              "      <td>13.0</td>\n",
              "      <td>0.00</td>\n",
              "      <td>Fair</td>\n",
              "      <td>False</td>\n",
              "      <td>False</td>\n",
              "      <td>False</td>\n",
              "      <td>False</td>\n",
              "      <td>False</td>\n",
              "      <td>False</td>\n",
              "      <td>False</td>\n",
              "      <td>False</td>\n",
              "      <td>False</td>\n",
              "      <td>False</td>\n",
              "      <td>False</td>\n",
              "      <td>False</td>\n",
              "      <td>False</td>\n",
              "      <td>Day</td>\n",
              "      <td>Day</td>\n",
              "      <td>Day</td>\n",
              "      <td>Day</td>\n",
              "    </tr>\n",
              "    <tr>\n",
              "      <th>1516060</th>\n",
              "      <td>A-4239403</td>\n",
              "      <td>2</td>\n",
              "      <td>2019-08-23 19:11:30</td>\n",
              "      <td>2019-08-23 19:38:23</td>\n",
              "      <td>32.76696</td>\n",
              "      <td>-117.14806</td>\n",
              "      <td>32.76555</td>\n",
              "      <td>-117.15363</td>\n",
              "      <td>0.338</td>\n",
              "      <td>At Camino Del Rio/Mission Center Rd - Accident.</td>\n",
              "      <td>NaN</td>\n",
              "      <td>I-8 W</td>\n",
              "      <td>R</td>\n",
              "      <td>San Diego</td>\n",
              "      <td>San Diego</td>\n",
              "      <td>CA</td>\n",
              "      <td>92108</td>\n",
              "      <td>US</td>\n",
              "      <td>US/Pacific</td>\n",
              "      <td>KMYF</td>\n",
              "      <td>2019-08-23 18:53:00</td>\n",
              "      <td>70.0</td>\n",
              "      <td>70.0</td>\n",
              "      <td>73.0</td>\n",
              "      <td>29.39</td>\n",
              "      <td>10.0</td>\n",
              "      <td>SW</td>\n",
              "      <td>6.0</td>\n",
              "      <td>0.00</td>\n",
              "      <td>Fair</td>\n",
              "      <td>False</td>\n",
              "      <td>False</td>\n",
              "      <td>False</td>\n",
              "      <td>False</td>\n",
              "      <td>False</td>\n",
              "      <td>False</td>\n",
              "      <td>False</td>\n",
              "      <td>False</td>\n",
              "      <td>False</td>\n",
              "      <td>False</td>\n",
              "      <td>False</td>\n",
              "      <td>False</td>\n",
              "      <td>False</td>\n",
              "      <td>Day</td>\n",
              "      <td>Day</td>\n",
              "      <td>Day</td>\n",
              "      <td>Day</td>\n",
              "    </tr>\n",
              "    <tr>\n",
              "      <th>1516061</th>\n",
              "      <td>A-4239404</td>\n",
              "      <td>2</td>\n",
              "      <td>2019-08-23 19:00:21</td>\n",
              "      <td>2019-08-23 19:28:49</td>\n",
              "      <td>33.77545</td>\n",
              "      <td>-117.84779</td>\n",
              "      <td>33.77740</td>\n",
              "      <td>-117.85727</td>\n",
              "      <td>0.561</td>\n",
              "      <td>At Glassell St/Grand Ave - Accident. in the ri...</td>\n",
              "      <td>NaN</td>\n",
              "      <td>Garden Grove Fwy</td>\n",
              "      <td>R</td>\n",
              "      <td>Orange</td>\n",
              "      <td>Orange</td>\n",
              "      <td>CA</td>\n",
              "      <td>92866</td>\n",
              "      <td>US</td>\n",
              "      <td>US/Pacific</td>\n",
              "      <td>KSNA</td>\n",
              "      <td>2019-08-23 18:53:00</td>\n",
              "      <td>73.0</td>\n",
              "      <td>73.0</td>\n",
              "      <td>64.0</td>\n",
              "      <td>29.74</td>\n",
              "      <td>10.0</td>\n",
              "      <td>SSW</td>\n",
              "      <td>10.0</td>\n",
              "      <td>0.00</td>\n",
              "      <td>Partly Cloudy</td>\n",
              "      <td>False</td>\n",
              "      <td>False</td>\n",
              "      <td>False</td>\n",
              "      <td>False</td>\n",
              "      <td>True</td>\n",
              "      <td>False</td>\n",
              "      <td>False</td>\n",
              "      <td>False</td>\n",
              "      <td>False</td>\n",
              "      <td>False</td>\n",
              "      <td>False</td>\n",
              "      <td>False</td>\n",
              "      <td>False</td>\n",
              "      <td>Day</td>\n",
              "      <td>Day</td>\n",
              "      <td>Day</td>\n",
              "      <td>Day</td>\n",
              "    </tr>\n",
              "    <tr>\n",
              "      <th>1516062</th>\n",
              "      <td>A-4239405</td>\n",
              "      <td>2</td>\n",
              "      <td>2019-08-23 19:00:21</td>\n",
              "      <td>2019-08-23 19:29:42</td>\n",
              "      <td>33.99246</td>\n",
              "      <td>-118.40302</td>\n",
              "      <td>33.98311</td>\n",
              "      <td>-118.39565</td>\n",
              "      <td>0.772</td>\n",
              "      <td>At CA-90/Marina Fwy/Jefferson Blvd - Accident.</td>\n",
              "      <td>NaN</td>\n",
              "      <td>San Diego Fwy S</td>\n",
              "      <td>R</td>\n",
              "      <td>Culver City</td>\n",
              "      <td>Los Angeles</td>\n",
              "      <td>CA</td>\n",
              "      <td>90230</td>\n",
              "      <td>US</td>\n",
              "      <td>US/Pacific</td>\n",
              "      <td>KSMO</td>\n",
              "      <td>2019-08-23 18:51:00</td>\n",
              "      <td>71.0</td>\n",
              "      <td>71.0</td>\n",
              "      <td>81.0</td>\n",
              "      <td>29.62</td>\n",
              "      <td>10.0</td>\n",
              "      <td>SW</td>\n",
              "      <td>8.0</td>\n",
              "      <td>0.00</td>\n",
              "      <td>Fair</td>\n",
              "      <td>False</td>\n",
              "      <td>False</td>\n",
              "      <td>False</td>\n",
              "      <td>False</td>\n",
              "      <td>False</td>\n",
              "      <td>False</td>\n",
              "      <td>False</td>\n",
              "      <td>False</td>\n",
              "      <td>False</td>\n",
              "      <td>False</td>\n",
              "      <td>False</td>\n",
              "      <td>False</td>\n",
              "      <td>False</td>\n",
              "      <td>Day</td>\n",
              "      <td>Day</td>\n",
              "      <td>Day</td>\n",
              "      <td>Day</td>\n",
              "    </tr>\n",
              "    <tr>\n",
              "      <th>1516063</th>\n",
              "      <td>A-4239406</td>\n",
              "      <td>2</td>\n",
              "      <td>2019-08-23 18:52:06</td>\n",
              "      <td>2019-08-23 19:21:31</td>\n",
              "      <td>34.13393</td>\n",
              "      <td>-117.23092</td>\n",
              "      <td>34.13736</td>\n",
              "      <td>-117.23934</td>\n",
              "      <td>0.537</td>\n",
              "      <td>At Highland Ave/Arden Ave - Accident.</td>\n",
              "      <td>NaN</td>\n",
              "      <td>CA-210 W</td>\n",
              "      <td>R</td>\n",
              "      <td>Highland</td>\n",
              "      <td>San Bernardino</td>\n",
              "      <td>CA</td>\n",
              "      <td>92346</td>\n",
              "      <td>US</td>\n",
              "      <td>US/Pacific</td>\n",
              "      <td>KSBD</td>\n",
              "      <td>2019-08-23 20:50:00</td>\n",
              "      <td>79.0</td>\n",
              "      <td>79.0</td>\n",
              "      <td>47.0</td>\n",
              "      <td>28.63</td>\n",
              "      <td>7.0</td>\n",
              "      <td>SW</td>\n",
              "      <td>7.0</td>\n",
              "      <td>0.00</td>\n",
              "      <td>Fair</td>\n",
              "      <td>False</td>\n",
              "      <td>False</td>\n",
              "      <td>False</td>\n",
              "      <td>False</td>\n",
              "      <td>False</td>\n",
              "      <td>False</td>\n",
              "      <td>False</td>\n",
              "      <td>False</td>\n",
              "      <td>False</td>\n",
              "      <td>False</td>\n",
              "      <td>False</td>\n",
              "      <td>False</td>\n",
              "      <td>False</td>\n",
              "      <td>Day</td>\n",
              "      <td>Day</td>\n",
              "      <td>Day</td>\n",
              "      <td>Day</td>\n",
              "    </tr>\n",
              "  </tbody>\n",
              "</table>\n",
              "<p>1516064 rows × 47 columns</p>\n",
              "</div>"
            ],
            "text/plain": [
              "                ID  Severity  ... Nautical_Twilight Astronomical_Twilight\n",
              "0        A-2716600         3  ...             Night                 Night\n",
              "1        A-2716601         2  ...             Night                 Night\n",
              "2        A-2716602         2  ...             Night                   Day\n",
              "3        A-2716603         2  ...             Night                   Day\n",
              "4        A-2716604         2  ...               Day                   Day\n",
              "...            ...       ...  ...               ...                   ...\n",
              "1516059  A-4239402         2  ...               Day                   Day\n",
              "1516060  A-4239403         2  ...               Day                   Day\n",
              "1516061  A-4239404         2  ...               Day                   Day\n",
              "1516062  A-4239405         2  ...               Day                   Day\n",
              "1516063  A-4239406         2  ...               Day                   Day\n",
              "\n",
              "[1516064 rows x 47 columns]"
            ]
          },
          "metadata": {},
          "execution_count": 21
        }
      ]
    },
    {
      "cell_type": "code",
      "metadata": {
        "colab": {
          "base_uri": "https://localhost:8080/"
        },
        "id": "JkY9Pe-Mxa_O",
        "outputId": "9c3abbc2-ebc2-4612-8ab3-f1d32ced459f"
      },
      "source": [
        "df.info()\n"
      ],
      "execution_count": null,
      "outputs": [
        {
          "output_type": "stream",
          "name": "stdout",
          "text": [
            "<class 'pandas.core.frame.DataFrame'>\n",
            "RangeIndex: 1516064 entries, 0 to 1516063\n",
            "Data columns (total 47 columns):\n",
            " #   Column                 Non-Null Count    Dtype  \n",
            "---  ------                 --------------    -----  \n",
            " 0   ID                     1516064 non-null  object \n",
            " 1   Severity               1516064 non-null  int64  \n",
            " 2   Start_Time             1516064 non-null  object \n",
            " 3   End_Time               1516064 non-null  object \n",
            " 4   Start_Lat              1516064 non-null  float64\n",
            " 5   Start_Lng              1516064 non-null  float64\n",
            " 6   End_Lat                1516064 non-null  float64\n",
            " 7   End_Lng                1516064 non-null  float64\n",
            " 8   Distance(mi)           1516064 non-null  float64\n",
            " 9   Description            1516064 non-null  object \n",
            " 10  Number                 469969 non-null   float64\n",
            " 11  Street                 1516064 non-null  object \n",
            " 12  Side                   1516064 non-null  object \n",
            " 13  City                   1515981 non-null  object \n",
            " 14  County                 1516064 non-null  object \n",
            " 15  State                  1516064 non-null  object \n",
            " 16  Zipcode                1515129 non-null  object \n",
            " 17  Country                1516064 non-null  object \n",
            " 18  Timezone               1513762 non-null  object \n",
            " 19  Airport_Code           1511816 non-null  object \n",
            " 20  Weather_Timestamp      1485800 non-null  object \n",
            " 21  Temperature(F)         1473031 non-null  float64\n",
            " 22  Wind_Chill(F)          1066748 non-null  float64\n",
            " 23  Humidity(%)            1470555 non-null  float64\n",
            " 24  Pressure(in)           1479790 non-null  float64\n",
            " 25  Visibility(mi)         1471853 non-null  float64\n",
            " 26  Wind_Direction         1474206 non-null  object \n",
            " 27  Wind_Speed(mph)        1387202 non-null  float64\n",
            " 28  Precipitation(in)      1005515 non-null  float64\n",
            " 29  Weather_Condition      1472057 non-null  object \n",
            " 30  Amenity                1516064 non-null  bool   \n",
            " 31  Bump                   1516064 non-null  bool   \n",
            " 32  Crossing               1516064 non-null  bool   \n",
            " 33  Give_Way               1516064 non-null  bool   \n",
            " 34  Junction               1516064 non-null  bool   \n",
            " 35  No_Exit                1516064 non-null  bool   \n",
            " 36  Railway                1516064 non-null  bool   \n",
            " 37  Roundabout             1516064 non-null  bool   \n",
            " 38  Station                1516064 non-null  bool   \n",
            " 39  Stop                   1516064 non-null  bool   \n",
            " 40  Traffic_Calming        1516064 non-null  bool   \n",
            " 41  Traffic_Signal         1516064 non-null  bool   \n",
            " 42  Turning_Loop           1516064 non-null  bool   \n",
            " 43  Sunrise_Sunset         1515981 non-null  object \n",
            " 44  Civil_Twilight         1515981 non-null  object \n",
            " 45  Nautical_Twilight      1515981 non-null  object \n",
            " 46  Astronomical_Twilight  1515981 non-null  object \n",
            "dtypes: bool(13), float64(13), int64(1), object(20)\n",
            "memory usage: 412.1+ MB\n"
          ]
        }
      ]
    },
    {
      "cell_type": "code",
      "metadata": {
        "colab": {
          "base_uri": "https://localhost:8080/",
          "height": 315
        },
        "id": "nw0knjN3xa70",
        "outputId": "029cce81-8cfb-43d0-bbb8-d086d8b97262"
      },
      "source": [
        "df.describe()\n"
      ],
      "execution_count": null,
      "outputs": [
        {
          "output_type": "execute_result",
          "data": {
            "text/html": [
              "<div>\n",
              "<style scoped>\n",
              "    .dataframe tbody tr th:only-of-type {\n",
              "        vertical-align: middle;\n",
              "    }\n",
              "\n",
              "    .dataframe tbody tr th {\n",
              "        vertical-align: top;\n",
              "    }\n",
              "\n",
              "    .dataframe thead th {\n",
              "        text-align: right;\n",
              "    }\n",
              "</style>\n",
              "<table border=\"1\" class=\"dataframe\">\n",
              "  <thead>\n",
              "    <tr style=\"text-align: right;\">\n",
              "      <th></th>\n",
              "      <th>Severity</th>\n",
              "      <th>Start_Lat</th>\n",
              "      <th>Start_Lng</th>\n",
              "      <th>End_Lat</th>\n",
              "      <th>End_Lng</th>\n",
              "      <th>Distance(mi)</th>\n",
              "      <th>Number</th>\n",
              "      <th>Temperature(F)</th>\n",
              "      <th>Wind_Chill(F)</th>\n",
              "      <th>Humidity(%)</th>\n",
              "      <th>Pressure(in)</th>\n",
              "      <th>Visibility(mi)</th>\n",
              "      <th>Wind_Speed(mph)</th>\n",
              "      <th>Precipitation(in)</th>\n",
              "    </tr>\n",
              "  </thead>\n",
              "  <tbody>\n",
              "    <tr>\n",
              "      <th>count</th>\n",
              "      <td>1.516064e+06</td>\n",
              "      <td>1.516064e+06</td>\n",
              "      <td>1.516064e+06</td>\n",
              "      <td>1.516064e+06</td>\n",
              "      <td>1.516064e+06</td>\n",
              "      <td>1.516064e+06</td>\n",
              "      <td>4.699690e+05</td>\n",
              "      <td>1.473031e+06</td>\n",
              "      <td>1.066748e+06</td>\n",
              "      <td>1.470555e+06</td>\n",
              "      <td>1.479790e+06</td>\n",
              "      <td>1.471853e+06</td>\n",
              "      <td>1.387202e+06</td>\n",
              "      <td>1.005515e+06</td>\n",
              "    </tr>\n",
              "    <tr>\n",
              "      <th>mean</th>\n",
              "      <td>2.238630e+00</td>\n",
              "      <td>3.690056e+01</td>\n",
              "      <td>-9.859919e+01</td>\n",
              "      <td>3.690061e+01</td>\n",
              "      <td>-9.859901e+01</td>\n",
              "      <td>5.872617e-01</td>\n",
              "      <td>8.907533e+03</td>\n",
              "      <td>5.958460e+01</td>\n",
              "      <td>5.510976e+01</td>\n",
              "      <td>6.465960e+01</td>\n",
              "      <td>2.955495e+01</td>\n",
              "      <td>9.131755e+00</td>\n",
              "      <td>7.630812e+00</td>\n",
              "      <td>8.477855e-03</td>\n",
              "    </tr>\n",
              "    <tr>\n",
              "      <th>std</th>\n",
              "      <td>6.081481e-01</td>\n",
              "      <td>5.165653e+00</td>\n",
              "      <td>1.849602e+01</td>\n",
              "      <td>5.165629e+00</td>\n",
              "      <td>1.849590e+01</td>\n",
              "      <td>1.632659e+00</td>\n",
              "      <td>2.242190e+04</td>\n",
              "      <td>1.827316e+01</td>\n",
              "      <td>2.112735e+01</td>\n",
              "      <td>2.325986e+01</td>\n",
              "      <td>1.016756e+00</td>\n",
              "      <td>2.889112e+00</td>\n",
              "      <td>5.637364e+00</td>\n",
              "      <td>1.293168e-01</td>\n",
              "    </tr>\n",
              "    <tr>\n",
              "      <th>min</th>\n",
              "      <td>1.000000e+00</td>\n",
              "      <td>2.457022e+01</td>\n",
              "      <td>-1.244976e+02</td>\n",
              "      <td>2.457011e+01</td>\n",
              "      <td>-1.244978e+02</td>\n",
              "      <td>0.000000e+00</td>\n",
              "      <td>0.000000e+00</td>\n",
              "      <td>-8.900000e+01</td>\n",
              "      <td>-8.900000e+01</td>\n",
              "      <td>1.000000e+00</td>\n",
              "      <td>0.000000e+00</td>\n",
              "      <td>0.000000e+00</td>\n",
              "      <td>0.000000e+00</td>\n",
              "      <td>0.000000e+00</td>\n",
              "    </tr>\n",
              "    <tr>\n",
              "      <th>25%</th>\n",
              "      <td>2.000000e+00</td>\n",
              "      <td>3.385422e+01</td>\n",
              "      <td>-1.182076e+02</td>\n",
              "      <td>3.385420e+01</td>\n",
              "      <td>-1.182077e+02</td>\n",
              "      <td>0.000000e+00</td>\n",
              "      <td>1.212000e+03</td>\n",
              "      <td>4.700000e+01</td>\n",
              "      <td>4.080000e+01</td>\n",
              "      <td>4.800000e+01</td>\n",
              "      <td>2.944000e+01</td>\n",
              "      <td>1.000000e+01</td>\n",
              "      <td>4.600000e+00</td>\n",
              "      <td>0.000000e+00</td>\n",
              "    </tr>\n",
              "    <tr>\n",
              "      <th>50%</th>\n",
              "      <td>2.000000e+00</td>\n",
              "      <td>3.735113e+01</td>\n",
              "      <td>-9.438100e+01</td>\n",
              "      <td>3.735134e+01</td>\n",
              "      <td>-9.437987e+01</td>\n",
              "      <td>1.780000e-01</td>\n",
              "      <td>4.000000e+03</td>\n",
              "      <td>6.100000e+01</td>\n",
              "      <td>5.700000e+01</td>\n",
              "      <td>6.800000e+01</td>\n",
              "      <td>2.988000e+01</td>\n",
              "      <td>1.000000e+01</td>\n",
              "      <td>7.000000e+00</td>\n",
              "      <td>0.000000e+00</td>\n",
              "    </tr>\n",
              "    <tr>\n",
              "      <th>75%</th>\n",
              "      <td>2.000000e+00</td>\n",
              "      <td>4.072593e+01</td>\n",
              "      <td>-8.087469e+01</td>\n",
              "      <td>4.072593e+01</td>\n",
              "      <td>-8.087449e+01</td>\n",
              "      <td>5.940000e-01</td>\n",
              "      <td>1.010000e+04</td>\n",
              "      <td>7.300000e+01</td>\n",
              "      <td>7.100000e+01</td>\n",
              "      <td>8.400000e+01</td>\n",
              "      <td>3.004000e+01</td>\n",
              "      <td>1.000000e+01</td>\n",
              "      <td>1.040000e+01</td>\n",
              "      <td>0.000000e+00</td>\n",
              "    </tr>\n",
              "    <tr>\n",
              "      <th>max</th>\n",
              "      <td>4.000000e+00</td>\n",
              "      <td>4.900058e+01</td>\n",
              "      <td>-6.711317e+01</td>\n",
              "      <td>4.907500e+01</td>\n",
              "      <td>-6.710924e+01</td>\n",
              "      <td>1.551860e+02</td>\n",
              "      <td>9.999997e+06</td>\n",
              "      <td>1.706000e+02</td>\n",
              "      <td>1.130000e+02</td>\n",
              "      <td>1.000000e+02</td>\n",
              "      <td>5.804000e+01</td>\n",
              "      <td>1.400000e+02</td>\n",
              "      <td>9.840000e+02</td>\n",
              "      <td>2.400000e+01</td>\n",
              "    </tr>\n",
              "  </tbody>\n",
              "</table>\n",
              "</div>"
            ],
            "text/plain": [
              "           Severity     Start_Lat  ...  Wind_Speed(mph)  Precipitation(in)\n",
              "count  1.516064e+06  1.516064e+06  ...     1.387202e+06       1.005515e+06\n",
              "mean   2.238630e+00  3.690056e+01  ...     7.630812e+00       8.477855e-03\n",
              "std    6.081481e-01  5.165653e+00  ...     5.637364e+00       1.293168e-01\n",
              "min    1.000000e+00  2.457022e+01  ...     0.000000e+00       0.000000e+00\n",
              "25%    2.000000e+00  3.385422e+01  ...     4.600000e+00       0.000000e+00\n",
              "50%    2.000000e+00  3.735113e+01  ...     7.000000e+00       0.000000e+00\n",
              "75%    2.000000e+00  4.072593e+01  ...     1.040000e+01       0.000000e+00\n",
              "max    4.000000e+00  4.900058e+01  ...     9.840000e+02       2.400000e+01\n",
              "\n",
              "[8 rows x 14 columns]"
            ]
          },
          "metadata": {},
          "execution_count": 23
        }
      ]
    },
    {
      "cell_type": "code",
      "metadata": {
        "colab": {
          "base_uri": "https://localhost:8080/"
        },
        "id": "sIl9PJiTxa6E",
        "outputId": "3e06388f-7173-41af-d258-d4c1033cf693"
      },
      "source": [
        "numerics = ['int16', 'int32', 'int64', 'float16', 'float32', 'float64']\n",
        "\n",
        "numeric_df = df.select_dtypes(include=numerics)\n",
        "len(numeric_df.columns)"
      ],
      "execution_count": null,
      "outputs": [
        {
          "output_type": "execute_result",
          "data": {
            "text/plain": [
              "14"
            ]
          },
          "metadata": {},
          "execution_count": 24
        }
      ]
    },
    {
      "cell_type": "markdown",
      "metadata": {
        "id": "Dom5pOwdx73t"
      },
      "source": [
        "### Percentage of missing values per column"
      ]
    },
    {
      "cell_type": "code",
      "metadata": {
        "colab": {
          "base_uri": "https://localhost:8080/"
        },
        "id": "EuSzDcuhxa26",
        "outputId": "426b7e7b-4721-4141-f37d-6edfaf27d87e"
      },
      "source": [
        "missing_percentages = df.isna().sum().sort_values(ascending=False) / len(df)\n",
        "missing_percentages"
      ],
      "execution_count": null,
      "outputs": [
        {
          "output_type": "execute_result",
          "data": {
            "text/plain": [
              "Number                   0.690007\n",
              "Precipitation(in)        0.336760\n",
              "Wind_Chill(F)            0.296370\n",
              "Wind_Speed(mph)          0.084998\n",
              "Humidity(%)              0.030018\n",
              "Visibility(mi)           0.029162\n",
              "Weather_Condition        0.029027\n",
              "Temperature(F)           0.028385\n",
              "Wind_Direction           0.027610\n",
              "Pressure(in)             0.023926\n",
              "Weather_Timestamp        0.019962\n",
              "Airport_Code             0.002802\n",
              "Timezone                 0.001518\n",
              "Zipcode                  0.000617\n",
              "City                     0.000055\n",
              "Nautical_Twilight        0.000055\n",
              "Astronomical_Twilight    0.000055\n",
              "Civil_Twilight           0.000055\n",
              "Sunrise_Sunset           0.000055\n",
              "Amenity                  0.000000\n",
              "Bump                     0.000000\n",
              "Severity                 0.000000\n",
              "Start_Time               0.000000\n",
              "End_Time                 0.000000\n",
              "Start_Lat                0.000000\n",
              "Start_Lng                0.000000\n",
              "End_Lat                  0.000000\n",
              "End_Lng                  0.000000\n",
              "Distance(mi)             0.000000\n",
              "Description              0.000000\n",
              "Street                   0.000000\n",
              "Side                     0.000000\n",
              "County                   0.000000\n",
              "State                    0.000000\n",
              "Turning_Loop             0.000000\n",
              "Country                  0.000000\n",
              "Traffic_Signal           0.000000\n",
              "Traffic_Calming          0.000000\n",
              "Stop                     0.000000\n",
              "Station                  0.000000\n",
              "Roundabout               0.000000\n",
              "Railway                  0.000000\n",
              "No_Exit                  0.000000\n",
              "Junction                 0.000000\n",
              "Give_Way                 0.000000\n",
              "Crossing                 0.000000\n",
              "ID                       0.000000\n",
              "dtype: float64"
            ]
          },
          "metadata": {},
          "execution_count": 25
        }
      ]
    },
    {
      "cell_type": "code",
      "metadata": {
        "colab": {
          "base_uri": "https://localhost:8080/"
        },
        "id": "KavK3TuExa0q",
        "outputId": "b4c8dd5d-21c8-463a-8090-c6ed2a998c51"
      },
      "source": [
        "type(missing_percentages)"
      ],
      "execution_count": null,
      "outputs": [
        {
          "output_type": "execute_result",
          "data": {
            "text/plain": [
              "pandas.core.series.Series"
            ]
          },
          "metadata": {},
          "execution_count": 26
        }
      ]
    },
    {
      "cell_type": "code",
      "metadata": {
        "colab": {
          "base_uri": "https://localhost:8080/",
          "height": 282
        },
        "id": "0A-xTeojxax7",
        "outputId": "947454b5-32a7-48c4-8589-3ad5c76ffe41"
      },
      "source": [
        "missing_percentages[missing_percentages != 0].plot(kind='barh')"
      ],
      "execution_count": null,
      "outputs": [
        {
          "output_type": "execute_result",
          "data": {
            "text/plain": [
              "<matplotlib.axes._subplots.AxesSubplot at 0x7f6bf207cf90>"
            ]
          },
          "metadata": {},
          "execution_count": 27
        },
        {
          "output_type": "display_data",
          "data": {
            "image/png": "[encoded data removed]",
            "text/plain": [
              "<Figure size 432x288 with 1 Axes>"
            ]
          },
          "metadata": {
            "needs_background": "light"
          }
        }
      ]
    },
    {
      "cell_type": "markdown",
      "metadata": {
        "id": "GUaK3Ncryv_5"
      },
      "source": [
        "####Ignore columns that we don't want to use.\n",
        "\n"
      ]
    },
    {
      "cell_type": "markdown",
      "metadata": {
        "id": "8TsDqyMIzENH"
      },
      "source": [
        "## Exploratory Analysis and Visualization\n",
        "\n",
        " Columns we'll analyze:\n",
        "1. City\n",
        "2. Start Time\n",
        "3. Start Lat, Start Lng\n",
        "4. Temperature\n",
        "5. Weather Condition\n"
      ]
    },
    {
      "cell_type": "code",
      "metadata": {
        "colab": {
          "base_uri": "https://localhost:8080/"
        },
        "id": "Eh0txkW6xav3",
        "outputId": "9ff4a4ed-3358-489b-89f7-b616f0edb188"
      },
      "source": [
        "df.columns"
      ],
      "execution_count": null,
      "outputs": [
        {
          "output_type": "execute_result",
          "data": {
            "text/plain": [
              "Index(['ID', 'Severity', 'Start_Time', 'End_Time', 'Start_Lat', 'Start_Lng',\n",
              "       'End_Lat', 'End_Lng', 'Distance(mi)', 'Description', 'Number', 'Street',\n",
              "       'Side', 'City', 'County', 'State', 'Zipcode', 'Country', 'Timezone',\n",
              "       'Airport_Code', 'Weather_Timestamp', 'Temperature(F)', 'Wind_Chill(F)',\n",
              "       'Humidity(%)', 'Pressure(in)', 'Visibility(mi)', 'Wind_Direction',\n",
              "       'Wind_Speed(mph)', 'Precipitation(in)', 'Weather_Condition', 'Amenity',\n",
              "       'Bump', 'Crossing', 'Give_Way', 'Junction', 'No_Exit', 'Railway',\n",
              "       'Roundabout', 'Station', 'Stop', 'Traffic_Calming', 'Traffic_Signal',\n",
              "       'Turning_Loop', 'Sunrise_Sunset', 'Civil_Twilight', 'Nautical_Twilight',\n",
              "       'Astronomical_Twilight'],\n",
              "      dtype='object')"
            ]
          },
          "metadata": {},
          "execution_count": 28
        }
      ]
    },
    {
      "cell_type": "markdown",
      "metadata": {
        "id": "0BeypF4y0C6b"
      },
      "source": [
        "### City"
      ]
    },
    {
      "cell_type": "code",
      "metadata": {
        "colab": {
          "base_uri": "https://localhost:8080/"
        },
        "id": "BWAH_39opotE",
        "outputId": "896e88bc-d111-4b73-92bd-eeeec03c4e8b"
      },
      "source": [
        "df.City"
      ],
      "execution_count": null,
      "outputs": [
        {
          "output_type": "execute_result",
          "data": {
            "text/plain": [
              "0               Dublin\n",
              "1               Dayton\n",
              "2           Cincinnati\n",
              "3           Cincinnati\n",
              "4                Akron\n",
              "              ...     \n",
              "1516059      Riverside\n",
              "1516060      San Diego\n",
              "1516061         Orange\n",
              "1516062    Culver City\n",
              "1516063       Highland\n",
              "Name: City, Length: 1516064, dtype: object"
            ]
          },
          "metadata": {},
          "execution_count": 29
        }
      ]
    },
    {
      "cell_type": "code",
      "metadata": {
        "colab": {
          "base_uri": "https://localhost:8080/"
        },
        "id": "8YmR2847pok-",
        "outputId": "c6e77b72-5d62-4da2-b63d-5aa626e97c7b"
      },
      "source": [
        "cities = df.City.unique()\n",
        "len(cities)"
      ],
      "execution_count": null,
      "outputs": [
        {
          "output_type": "execute_result",
          "data": {
            "text/plain": [
              "10658"
            ]
          },
          "metadata": {},
          "execution_count": 30
        }
      ]
    },
    {
      "cell_type": "code",
      "metadata": {
        "colab": {
          "base_uri": "https://localhost:8080/"
        },
        "id": "uJaQ7SGHpohk",
        "outputId": "857ed7c9-fa81-490a-c116-a8e58c0ae703"
      },
      "source": [
        "cities_by_accident = df.City.value_counts()\n",
        "cities_by_accident"
      ],
      "execution_count": null,
      "outputs": [
        {
          "output_type": "execute_result",
          "data": {
            "text/plain": [
              "Los Angeles         39984\n",
              "Miami               36233\n",
              "Charlotte           22203\n",
              "Houston             20843\n",
              "Dallas              19497\n",
              "                    ...  \n",
              "Elmore City             1\n",
              "Loysburg                1\n",
              "Dane                    1\n",
              "Rensselaer Falls        1\n",
              "Bogota                  1\n",
              "Name: City, Length: 10657, dtype: int64"
            ]
          },
          "metadata": {},
          "execution_count": 31
        }
      ]
    },
    {
      "cell_type": "code",
      "metadata": {
        "colab": {
          "base_uri": "https://localhost:8080/"
        },
        "id": "oZX0DKyUpofD",
        "outputId": "f1846526-43d2-4f2a-a46a-b97466412690"
      },
      "source": [
        "cities_by_accident[:20]"
      ],
      "execution_count": null,
      "outputs": [
        {
          "output_type": "execute_result",
          "data": {
            "text/plain": [
              "Los Angeles     39984\n",
              "Miami           36233\n",
              "Charlotte       22203\n",
              "Houston         20843\n",
              "Dallas          19497\n",
              "Sacramento      18431\n",
              "Orlando         16169\n",
              "Portland        14805\n",
              "San Diego       14090\n",
              "Minneapolis     12653\n",
              "Atlanta         11854\n",
              "Chicago         11507\n",
              "Saint Paul      10084\n",
              "Phoenix          9934\n",
              "Raleigh          9516\n",
              "San Jose         9362\n",
              "Richmond         8472\n",
              "Nashville        8381\n",
              "Riverside        8201\n",
              "Jacksonville     7815\n",
              "Name: City, dtype: int64"
            ]
          },
          "metadata": {},
          "execution_count": 32
        }
      ]
    },
    {
      "cell_type": "code",
      "metadata": {
        "colab": {
          "base_uri": "https://localhost:8080/"
        },
        "id": "3ZAx-U7U0am4",
        "outputId": "4da509e2-3bfd-4481-d479-4ba408572a3d"
      },
      "source": [
        "type(cities_by_accident)"
      ],
      "execution_count": null,
      "outputs": [
        {
          "output_type": "execute_result",
          "data": {
            "text/plain": [
              "pandas.core.series.Series"
            ]
          },
          "metadata": {},
          "execution_count": 33
        }
      ]
    },
    {
      "cell_type": "code",
      "metadata": {
        "colab": {
          "base_uri": "https://localhost:8080/",
          "height": 282
        },
        "id": "XOmVv1gt0aiu",
        "outputId": "26f1b432-0c45-4057-b029-b21e32f028f4"
      },
      "source": [
        "cities_by_accident[:20].plot(kind='barh')"
      ],
      "execution_count": null,
      "outputs": [
        {
          "output_type": "execute_result",
          "data": {
            "text/plain": [
              "<matplotlib.axes._subplots.AxesSubplot at 0x7f6bcd9a6410>"
            ]
          },
          "metadata": {},
          "execution_count": 34
        },
        {
          "output_type": "display_data",
          "data": {
            "image/png": "[encoded data removed]",
            "text/plain": [
              "<Figure size 432x288 with 1 Axes>"
            ]
          },
          "metadata": {
            "needs_background": "light"
          }
        }
      ]
    },
    {
      "cell_type": "code",
      "metadata": {
        "id": "sQJKMK680agb"
      },
      "source": [
        "import seaborn as sns\n",
        "sns.set_style(\"darkgrid\")"
      ],
      "execution_count": null,
      "outputs": []
    },
    {
      "cell_type": "code",
      "metadata": {
        "colab": {
          "base_uri": "https://localhost:8080/",
          "height": 300
        },
        "id": "A--PwkNV0ad0",
        "outputId": "27771fec-1076-4c09-df05-40a4b18e1e01"
      },
      "source": [
        "sns.histplot(cities_by_accident, log_scale=True)"
      ],
      "execution_count": null,
      "outputs": [
        {
          "output_type": "execute_result",
          "data": {
            "text/plain": [
              "<matplotlib.axes._subplots.AxesSubplot at 0x7f6bbeb06750>"
            ]
          },
          "metadata": {},
          "execution_count": 36
        },
        {
          "output_type": "display_data",
          "data": {
            "image/png": "[encoded data removed]",
            "text/plain": [
              "<Figure size 432x288 with 1 Axes>"
            ]
          },
          "metadata": {}
        }
      ]
    },
    {
      "cell_type": "code",
      "metadata": {
        "colab": {
          "base_uri": "https://localhost:8080/"
        },
        "id": "iigB2HDk0abV",
        "outputId": "6b573d4d-b69a-4137-f277-9ff3f08695c6"
      },
      "source": [
        "cities_by_accident[cities_by_accident == 1]"
      ],
      "execution_count": null,
      "outputs": [
        {
          "output_type": "execute_result",
          "data": {
            "text/plain": [
              "Trego               1\n",
              "Royston             1\n",
              "Sudan               1\n",
              "Loves Park          1\n",
              "Glenpool            1\n",
              "                   ..\n",
              "Elmore City         1\n",
              "Loysburg            1\n",
              "Dane                1\n",
              "Rensselaer Falls    1\n",
              "Bogota              1\n",
              "Name: City, Length: 1167, dtype: int64"
            ]
          },
          "metadata": {},
          "execution_count": 37
        }
      ]
    },
    {
      "cell_type": "markdown",
      "metadata": {
        "id": "_Vd-ZdSe2M65"
      },
      "source": [
        "### Start Time"
      ]
    },
    {
      "cell_type": "code",
      "metadata": {
        "colab": {
          "base_uri": "https://localhost:8080/"
        },
        "id": "R3xgiuMC0aY7",
        "outputId": "aab2e9be-e015-4a17-d8cb-8777a09175d3"
      },
      "source": [
        "df.Start_Time"
      ],
      "execution_count": null,
      "outputs": [
        {
          "output_type": "execute_result",
          "data": {
            "text/plain": [
              "0          2016-02-08 00:37:08\n",
              "1          2016-02-08 05:56:20\n",
              "2          2016-02-08 06:15:39\n",
              "3          2016-02-08 06:15:39\n",
              "4          2016-02-08 06:51:45\n",
              "                  ...         \n",
              "1516059    2019-08-23 18:03:25\n",
              "1516060    2019-08-23 19:11:30\n",
              "1516061    2019-08-23 19:00:21\n",
              "1516062    2019-08-23 19:00:21\n",
              "1516063    2019-08-23 18:52:06\n",
              "Name: Start_Time, Length: 1516064, dtype: object"
            ]
          },
          "metadata": {},
          "execution_count": 38
        }
      ]
    },
    {
      "cell_type": "code",
      "metadata": {
        "id": "6d80V9Ja2R3R"
      },
      "source": [
        "df.Start_Time = pd.to_datetime(df.Start_Time)"
      ],
      "execution_count": null,
      "outputs": []
    },
    {
      "cell_type": "markdown",
      "metadata": {
        "id": "CK9EhaZ82Z9j"
      },
      "source": [
        "- Figure out how to show percentages"
      ]
    },
    {
      "cell_type": "code",
      "metadata": {
        "colab": {
          "base_uri": "https://localhost:8080/",
          "height": 350
        },
        "id": "tXcbYmhm2RzQ",
        "outputId": "99ea96be-fba0-4f9d-8f96-da606c52b24f"
      },
      "source": [
        "sns.distplot(df.Start_Time.dt.hour, bins=24, kde=False, norm_hist=True)"
      ],
      "execution_count": null,
      "outputs": [
        {
          "output_type": "stream",
          "name": "stderr",
          "text": [
            "/usr/local/lib/python3.7/dist-packages/seaborn/distributions.py:2619: FutureWarning: `distplot` is a deprecated function and will be removed in a future version. Please adapt your code to use either `displot` (a figure-level function with similar flexibility) or `histplot` (an axes-level function for histograms).\n",
            "  warnings.warn(msg, FutureWarning)\n"
          ]
        },
        {
          "output_type": "execute_result",
          "data": {
            "text/plain": [
              "<matplotlib.axes._subplots.AxesSubplot at 0x7f6bbe7a4190>"
            ]
          },
          "metadata": {},
          "execution_count": 40
        },
        {
          "output_type": "display_data",
          "data": {
            "image/png": "[encoded data removed]",
            "text/plain": [
              "<Figure size 432x288 with 1 Axes>"
            ]
          },
          "metadata": {}
        }
      ]
    },
    {
      "cell_type": "markdown",
      "metadata": {
        "id": "sDf9oE9X2gyk"
      },
      "source": [
        "- A high percentage of accidents occur between 6 am to 10 am (probably people in a hurry to get to work)\n",
        "- Next higest percentage is 3 pm to 6 pm."
      ]
    },
    {
      "cell_type": "code",
      "metadata": {
        "colab": {
          "base_uri": "https://localhost:8080/",
          "height": 350
        },
        "id": "oTZpNawH2Rwy",
        "outputId": "e713d372-8d22-438a-ab41-d675ddd4618b"
      },
      "source": [
        "sns.distplot(df.Start_Time.dt.dayofweek, bins=7, kde=False, norm_hist=True)"
      ],
      "execution_count": null,
      "outputs": [
        {
          "output_type": "stream",
          "name": "stderr",
          "text": [
            "/usr/local/lib/python3.7/dist-packages/seaborn/distributions.py:2619: FutureWarning: `distplot` is a deprecated function and will be removed in a future version. Please adapt your code to use either `displot` (a figure-level function with similar flexibility) or `histplot` (an axes-level function for histograms).\n",
            "  warnings.warn(msg, FutureWarning)\n"
          ]
        },
        {
          "output_type": "execute_result",
          "data": {
            "text/plain": [
              "<matplotlib.axes._subplots.AxesSubplot at 0x7f6bbe7278d0>"
            ]
          },
          "metadata": {},
          "execution_count": 41
        },
        {
          "output_type": "display_data",
          "data": {
            "image/png": "[encoded data removed]",
            "text/plain": [
              "<Figure size 432x288 with 1 Axes>"
            ]
          },
          "metadata": {}
        }
      ]
    },
    {
      "cell_type": "markdown",
      "metadata": {
        "id": "_NdLz5K62pQs"
      },
      "source": [
        "Is the distribution of accidents by hour the same on weekends as on weekdays."
      ]
    },
    {
      "cell_type": "code",
      "metadata": {
        "colab": {
          "base_uri": "https://localhost:8080/",
          "height": 350
        },
        "id": "bEunD7iT2Ru6",
        "outputId": "b75161b0-4465-4410-dde0-85780a6f79c3"
      },
      "source": [
        "sundays_start_time = df.Start_Time[df.Start_Time.dt.dayofweek == 6]\n",
        "sns.distplot(sundays_start_time.dt.hour, bins=24, kde=False, norm_hist=True)"
      ],
      "execution_count": null,
      "outputs": [
        {
          "output_type": "stream",
          "name": "stderr",
          "text": [
            "/usr/local/lib/python3.7/dist-packages/seaborn/distributions.py:2619: FutureWarning: `distplot` is a deprecated function and will be removed in a future version. Please adapt your code to use either `displot` (a figure-level function with similar flexibility) or `histplot` (an axes-level function for histograms).\n",
            "  warnings.warn(msg, FutureWarning)\n"
          ]
        },
        {
          "output_type": "execute_result",
          "data": {
            "text/plain": [
              "<matplotlib.axes._subplots.AxesSubplot at 0x7f6bbe70c250>"
            ]
          },
          "metadata": {},
          "execution_count": 42
        },
        {
          "output_type": "display_data",
          "data": {
            "image/png": "[encoded data removed]",
            "text/plain": [
              "<Figure size 432x288 with 1 Axes>"
            ]
          },
          "metadata": {}
        }
      ]
    },
    {
      "cell_type": "code",
      "metadata": {
        "colab": {
          "base_uri": "https://localhost:8080/",
          "height": 353
        },
        "id": "il-00Cjl2Rr8",
        "outputId": "11838350-de0b-4667-fd13-21dedf1c63fd"
      },
      "source": [
        "monday_start_time = df.Start_Time[df.Start_Time.dt.dayofweek == 0]\n",
        "sns.distplot(monday_start_time.dt.hour, bins=24, kde=False, norm_hist=True)"
      ],
      "execution_count": null,
      "outputs": [
        {
          "output_type": "stream",
          "name": "stderr",
          "text": [
            "/usr/local/lib/python3.7/dist-packages/seaborn/distributions.py:2619: FutureWarning: `distplot` is a deprecated function and will be removed in a future version. Please adapt your code to use either `displot` (a figure-level function with similar flexibility) or `histplot` (an axes-level function for histograms).\n",
            "  warnings.warn(msg, FutureWarning)\n"
          ]
        },
        {
          "output_type": "execute_result",
          "data": {
            "text/plain": [
              "<matplotlib.axes._subplots.AxesSubplot at 0x7f6bbe630550>"
            ]
          },
          "metadata": {},
          "execution_count": 43
        },
        {
          "output_type": "display_data",
          "data": {
            "image/png": "[encoded data removed]",
            "text/plain": [
              "<Figure size 432x288 with 1 Axes>"
            ]
          },
          "metadata": {}
        }
      ]
    },
    {
      "cell_type": "markdown",
      "metadata": {
        "id": "GpNezuvM24RZ"
      },
      "source": [
        "On Sundays, the peak occurs between 10 am and 3 pm, unlike weekdays"
      ]
    },
    {
      "cell_type": "markdown",
      "metadata": {
        "id": "IzDaoIyG6Ag0"
      },
      "source": [
        "### Start Latitude & Longitude"
      ]
    },
    {
      "cell_type": "code",
      "metadata": {
        "colab": {
          "base_uri": "https://localhost:8080/"
        },
        "id": "1EKJiqEa3Jot",
        "outputId": "df39dec8-6e61-46f6-f214-a04fcf818bde"
      },
      "source": [
        "df.Start_Lat"
      ],
      "execution_count": null,
      "outputs": [
        {
          "output_type": "execute_result",
          "data": {
            "text/plain": [
              "0          40.10891\n",
              "1          39.86542\n",
              "2          39.10266\n",
              "3          39.10148\n",
              "4          41.06213\n",
              "             ...   \n",
              "1516059    34.00248\n",
              "1516060    32.76696\n",
              "1516061    33.77545\n",
              "1516062    33.99246\n",
              "1516063    34.13393\n",
              "Name: Start_Lat, Length: 1516064, dtype: float64"
            ]
          },
          "metadata": {},
          "execution_count": 48
        },
        {
          "output_type": "execute_result",
          "data": {
            "text/plain": [
              "0          40.10891\n",
              "1          39.86542\n",
              "2          39.10266\n",
              "3          39.10148\n",
              "4          41.06213\n",
              "             ...   \n",
              "1516059    34.00248\n",
              "1516060    32.76696\n",
              "1516061    33.77545\n",
              "1516062    33.99246\n",
              "1516063    34.13393\n",
              "Name: Start_Lat, Length: 1516064, dtype: float64"
            ]
          },
          "metadata": {},
          "execution_count": 49
        }
      ]
    },
    {
      "cell_type": "code",
      "metadata": {
        "colab": {
          "base_uri": "https://localhost:8080/"
        },
        "id": "ua0gDtVe3Jmm",
        "outputId": "8750f806-30f2-4db5-ff8e-3587e208d2a8"
      },
      "source": [
        "df.Start_Lng"
      ],
      "execution_count": null,
      "outputs": [
        {
          "output_type": "execute_result",
          "data": {
            "text/plain": [
              "0          -83.09286\n",
              "1          -84.06280\n",
              "2          -84.52468\n",
              "3          -84.52341\n",
              "4          -81.53784\n",
              "             ...    \n",
              "1516059   -117.37936\n",
              "1516060   -117.14806\n",
              "1516061   -117.84779\n",
              "1516062   -118.40302\n",
              "1516063   -117.23092\n",
              "Name: Start_Lng, Length: 1516064, dtype: float64"
            ]
          },
          "metadata": {},
          "execution_count": 50
        }
      ]
    },
    {
      "cell_type": "code",
      "metadata": {
        "id": "okV100703JkM"
      },
      "source": [
        "sample_df = df.sample(int(0.1 * len(df)))"
      ],
      "execution_count": null,
      "outputs": []
    },
    {
      "cell_type": "code",
      "metadata": {
        "colab": {
          "base_uri": "https://localhost:8080/",
          "height": 300
        },
        "id": "orKA5WNV2RnJ",
        "outputId": "be0d1fe3-d634-4fe6-c56d-2e2a9f2b303c"
      },
      "source": [
        "sns.scatterplot(x=sample_df.Start_Lng, y=sample_df.Start_Lat, size=0.001)"
      ],
      "execution_count": null,
      "outputs": [
        {
          "output_type": "execute_result",
          "data": {
            "text/plain": [
              "<matplotlib.axes._subplots.AxesSubplot at 0x7f6bbe648ed0>"
            ]
          },
          "metadata": {},
          "execution_count": 52
        },
        {
          "output_type": "display_data",
          "data": {
            "image/png": "[encoded data removed]",
            "text/plain": [
              "<Figure size 432x288 with 1 Axes>"
            ]
          },
          "metadata": {}
        }
      ]
    },
    {
      "cell_type": "code",
      "metadata": {
        "id": "42VLd_W86ctH"
      },
      "source": [
        "import folium"
      ],
      "execution_count": null,
      "outputs": []
    },
    {
      "cell_type": "code",
      "metadata": {
        "colab": {
          "base_uri": "https://localhost:8080/"
        },
        "id": "suUhFQv26cpB",
        "outputId": "55335982-be8a-4f3a-d5d2-371622ce926c"
      },
      "source": [
        "lat, lon = df.Start_Lat[0], df.Start_Lng[0]\n",
        "lat, lon"
      ],
      "execution_count": null,
      "outputs": [
        {
          "output_type": "execute_result",
          "data": {
            "text/plain": [
              "(40.108909999999995, -83.09286)"
            ]
          },
          "metadata": {},
          "execution_count": 55
        }
      ]
    },
    {
      "cell_type": "code",
      "metadata": {
        "colab": {
          "base_uri": "https://localhost:8080/"
        },
        "id": "VjkM7pmT6cnc",
        "outputId": "5df6ecf3-8848-4a74-d45c-ae99fe1ea14f"
      },
      "source": [
        "for x in df[['Start_Lat', 'Start_Lng']].sample(100).iteritems():\n",
        "    print(x[1])"
      ],
      "execution_count": null,
      "outputs": [
        {
          "output_type": "stream",
          "name": "stdout",
          "text": [
            "247118     28.186060\n",
            "525040     37.977105\n",
            "541526     33.873719\n",
            "103833     40.781500\n",
            "629989     38.907039\n",
            "             ...    \n",
            "1073096    34.081828\n",
            "793624     39.778340\n",
            "292917     33.462091\n",
            "594905     46.611288\n",
            "167003     38.779305\n",
            "Name: Start_Lat, Length: 100, dtype: float64\n",
            "247118     -82.415629\n",
            "525040    -120.315012\n",
            "541526    -118.257764\n",
            "103833     -73.652370\n",
            "629989     -78.005102\n",
            "              ...    \n",
            "1073096   -117.702656\n",
            "793624    -104.895420\n",
            "292917    -112.243784\n",
            "594905     -92.553387\n",
            "167003     -90.364977\n",
            "Name: Start_Lng, Length: 100, dtype: float64\n"
          ]
        }
      ]
    },
    {
      "cell_type": "code",
      "metadata": {
        "colab": {
          "base_uri": "https://localhost:8080/"
        },
        "id": "NSA1ThSB6ckJ",
        "outputId": "7109d302-9c8b-43aa-9fe2-4808c3fbffca"
      },
      "source": [
        "zip(list(df.Start_Lat), list(df.Start_Lng))"
      ],
      "execution_count": null,
      "outputs": [
        {
          "output_type": "execute_result",
          "data": {
            "text/plain": [
              "<zip at 0x7f6bbeb07050>"
            ]
          },
          "metadata": {},
          "execution_count": 57
        }
      ]
    },
    {
      "cell_type": "code",
      "metadata": {
        "id": "qpWd5ASi6ch0"
      },
      "source": [
        "from folium.plugins import HeatMap"
      ],
      "execution_count": null,
      "outputs": []
    },
    {
      "cell_type": "code",
      "metadata": {
        "id": "xu78z_hq6cfU"
      },
      "source": [
        "sample_df = df.sample(int(0.001 * len(df)))\n",
        "lat_lon_pairs = list(zip(list(sample_df.Start_Lat), list(sample_df.Start_Lng)))"
      ],
      "execution_count": null,
      "outputs": []
    },
    {
      "cell_type": "code",
      "metadata": {
        "colab": {
          "base_uri": "https://localhost:8080/",
          "height": 428
        },
        "id": "sccJAXEd7FhC",
        "outputId": "7be7456e-fcd2-48ad-fabf-d922489c208e"
      },
      "source": [
        "map = folium.Map()\n",
        "HeatMap(lat_lon_pairs).add_to(map)\n",
        "map"
      ],
      "execution_count": null,
      "outputs": [
        {
          "output_type": "execute_result",
          "data": {
            "text/html": [
              "<div style=\"width:100%;\"><div style=\"position:relative;width:100%;height:0;padding-bottom:60%;\"><span style=\"color:#565656\">Make this Notebook Trusted to load map: File -> Trust Notebook</span><iframe src=\"about:blank\" style=\"position:absolute;width:100%;height:100%;left:0;top:0;border:none !important;\" data-html=%3C%21DOCTYPE%20html%3E%0A%3Chead%3E%20%20%20%20%0A%20%20%20%20%3Cmeta%20http-equiv%3D%22content-type%22%20content%3D%22text/html%3B%20charset%3DUTF-8%22%20/%3E%0A%20%20%20%20%3Cscript%3EL_PREFER_CANVAS%3Dfalse%3B%20L_NO_TOUCH%3Dfalse%3B%20L_DISABLE_3D%3Dfalse%3B%3C/script%3E%0A%20%20%20%20%3Cscript%20src%3D%22https%3A//cdn.jsdelivr.net/npm/leaflet%401.4.0/dist/leaflet.js%22%3E%3C/script%3E%0A%20%20%20%20%3Cscript%20src%3D%22https%3A//code.jquery.com/jquery-1.12.4.min.js%22%3E%3C/script%3E%0A%20%20%20%20%3Cscript%20src%3D%22https%3A//maxcdn.bootstrapcdn.com/bootstrap/3.2.0/js/bootstrap.min.js%22%3E%3C/script%3E%0A%20%20%20%20%3Cscript%20src%3D%22https%3A//cdnjs.cloudflare.com/ajax/libs/Leaflet.awesome-markers/2.0.2/leaflet.awesome-markers.js%22%3E%3C/script%3E%0A%20%20%20%20%3Clink%20rel%3D%22stylesheet%22%20href%3D%22https%3A//cdn.jsdelivr.net/npm/leaflet%401.4.0/dist/leaflet.css%22/%3E%0A%20%20%20%20%3Clink%20rel%3D%22stylesheet%22%20href%3D%22https%3A//maxcdn.bootstrapcdn.com/bootstrap/3.2.0/css/bootstrap.min.css%22/%3E%0A%20%20%20%20%3Clink%20rel%3D%22stylesheet%22%20href%3D%22https%3A//maxcdn.bootstrapcdn.com/bootstrap/3.2.0/css/bootstrap-theme.min.css%22/%3E%0A%20%20%20%20%3Clink%20rel%3D%22stylesheet%22%20href%3D%22https%3A//maxcdn.bootstrapcdn.com/font-awesome/4.6.3/css/font-awesome.min.css%22/%3E%0A%20%20%20%20%3Clink%20rel%3D%22stylesheet%22%20href%3D%22https%3A//cdnjs.cloudflare.com/ajax/libs/Leaflet.awesome-markers/2.0.2/leaflet.awesome-markers.css%22/%3E%0A%20%20%20%20%3Clink%20rel%3D%22stylesheet%22%20href%3D%22https%3A//rawcdn.githack.com/python-visualization/folium/master/folium/templates/leaflet.awesome.rotate.css%22/%3E%0A%20%20%20%20%3Cstyle%3Ehtml%2C%20body%20%7Bwidth%3A%20100%25%3Bheight%3A%20100%25%3Bmargin%3A%200%3Bpadding%3A%200%3B%7D%3C/style%3E%0A%20%20%20%20%3Cstyle%3E%23map%20%7Bposition%3Aabsolute%3Btop%3A0%3Bbottom%3A0%3Bright%3A0%3Bleft%3A0%3B%7D%3C/style%3E%0A%20%20%20%20%0A%20%20%20%20%3Cmeta%20name%3D%22viewport%22%20content%3D%22width%3Ddevice-width%2C%0A%20%20%20%20%20%20%20%20initial-scale%3D1.0%2C%20maximum-scale%3D1.0%2C%20user-scalable%3Dno%22%20/%3E%0A%20%20%20%20%3Cstyle%3E%23map_c0c62f7c9d804412bd80eb5b046028f1%20%7B%0A%20%20%20%20%20%20%20%20position%3A%20relative%3B%0A%20%20%20%20%20%20%20%20width%3A%20100.0%25%3B%0A%20%20%20%20%20%20%20%20height%3A%20100.0%25%3B%0A%20%20%20%20%20%20%20%20left%3A%200.0%25%3B%0A%20%20%20%20%20%20%20%20top%3A%200.0%25%3B%0A%20%20%20%20%20%20%20%20%7D%0A%20%20%20%20%3C/style%3E%0A%20%20%20%20%3Cscript%20src%3D%22https%3A//leaflet.github.io/Leaflet.heat/dist/leaflet-heat.js%22%3E%3C/script%3E%0A%3C/head%3E%0A%3Cbody%3E%20%20%20%20%0A%20%20%20%20%0A%20%20%20%20%3Cdiv%20class%3D%22folium-map%22%20id%3D%22map_c0c62f7c9d804412bd80eb5b046028f1%22%20%3E%3C/div%3E%0A%3C/body%3E%0A%3Cscript%3E%20%20%20%20%0A%20%20%20%20%0A%20%20%20%20%0A%20%20%20%20%20%20%20%20var%20bounds%20%3D%20null%3B%0A%20%20%20%20%0A%0A%20%20%20%20var%20map_c0c62f7c9d804412bd80eb5b046028f1%20%3D%20L.map%28%0A%20%20%20%20%20%20%20%20%27map_c0c62f7c9d804412bd80eb5b046028f1%27%2C%20%7B%0A%20%20%20%20%20%20%20%20center%3A%20%5B0%2C%200%5D%2C%0A%20%20%20%20%20%20%20%20zoom%3A%201%2C%0A%20%20%20%20%20%20%20%20maxBounds%3A%20bounds%2C%0A%20%20%20%20%20%20%20%20layers%3A%20%5B%5D%2C%0A%20%20%20%20%20%20%20%20worldCopyJump%3A%20false%2C%0A%20%20%20%20%20%20%20%20crs%3A%20L.CRS.EPSG3857%2C%0A%20%20%20%20%20%20%20%20zoomControl%3A%20true%2C%0A%20%20%20%20%20%20%20%20%7D%29%3B%0A%0A%0A%20%20%20%20%0A%20%20%20%20var%20tile_layer_a79e7c9297214eaaa7ca4f8432085e1b%20%3D%20L.tileLayer%28%0A%20%20%20%20%20%20%20%20%27https%3A//%7Bs%7D.tile.openstreetmap.org/%7Bz%7D/%7Bx%7D/%7By%7D.png%27%2C%0A%20%20%20%20%20%20%20%20%7B%0A%20%20%20%20%20%20%20%20%22attribution%22%3A%20null%2C%0A%20%20%20%20%20%20%20%20%22detectRetina%22%3A%20false%2C%0A%20%20%20%20%20%20%20%20%22maxNativeZoom%22%3A%2018%2C%0A%20%20%20%20%20%20%20%20%22maxZoom%22%3A%2018%2C%0A%20%20%20%20%20%20%20%20%22minZoom%22%3A%200%2C%0A%20%20%20%20%20%20%20%20%22noWrap%22%3A%20false%2C%0A%20%20%20%20%20%20%20%20%22opacity%22%3A%201%2C%0A%20%20%20%20%20%20%20%20%22subdomains%22%3A%20%22abc%22%2C%0A%20%20%20%20%20%20%20%20%22tms%22%3A%20false%0A%7D%29.addTo%28map_c0c62f7c9d804412bd80eb5b046028f1%29%3B%0A%20%20%20%20%0A%20%20%20%20%20%20%20%20%20%20%20%20var%20heat_map_d6a6382639bb44f083dd016a67c8d213%20%3D%20L.heatLayer%28%0A%20%20%20%20%20%20%20%20%20%20%20%20%20%20%20%20%5B%5B32.733227%2C%20-86.540581%5D%2C%20%5B33.49496%2C%20-112.15171000000001%5D%2C%20%5B38.56811%2C%20-121.5125%5D%2C%20%5B39.03748%2C%20-77.05046%5D%2C%20%5B42.39113%2C%20-71.08333%5D%2C%20%5B39.76455%2C%20-105.00165%5D%2C%20%5B33.921628999999996%2C%20-117.107983%5D%2C%20%5B30.010176%2C%20-90.018043%5D%2C%20%5B36.90254%2C%20-82.313273%5D%2C%20%5B47.65078%2C%20-117.43558%5D%2C%20%5B29.417740000000002%2C%20-98.62966%5D%2C%20%5B44.84851%2C%20-123.22931000000001%5D%2C%20%5B34.035921%2C%20-118.09291699999999%5D%2C%20%5B29.736790000000003%2C%20-95.36907%5D%2C%20%5B35.16282%2C%20-80.8887%5D%2C%20%5B40.731912%2C%20-113.505279%5D%2C%20%5B32.85902%2C%20-96.6537%5D%2C%20%5B37.621358%2C%20-120.94031399999999%5D%2C%20%5B35.09473%2C%20-89.87019000000001%5D%2C%20%5B28.535090000000004%2C%20-81.40001%5D%2C%20%5B34.023435%2C%20-117.750504%5D%2C%20%5B44.65702%2C%20-93.67529%5D%2C%20%5B39.267164%2C%20-94.442263%5D%2C%20%5B25.761067999999998%2C%20-80.41421600000001%5D%2C%20%5B39.83121%2C%20-75.08901%5D%2C%20%5B25.626167000000002%2C%20-80.415723%5D%2C%20%5B43.125021000000004%2C%20-123.36383400000001%5D%2C%20%5B41.10628%2C%20-73.80725699999999%5D%2C%20%5B35.42078%2C%20-97.4888%5D%2C%20%5B29.724625%2C%20-95.59243599999999%5D%2C%20%5B39.63862%2C%20-104.82908%5D%2C%20%5B40.06373%2C%20-75.32651%5D%2C%20%5B44.88304%2C%20-93.01501%5D%2C%20%5B27.955579999999998%2C%20-82.49075%5D%2C%20%5B42.75155%2C%20-73.92863%5D%2C%20%5B34.34078%2C%20-117.45843%5D%2C%20%5B38.504189000000004%2C%20-90.341092%5D%2C%20%5B40.643755999999996%2C%20-74.01865%5D%2C%20%5B39.246134000000005%2C%20-76.647177%5D%2C%20%5B37.262370000000004%2C%20-81.12097%5D%2C%20%5B35.146840000000005%2C%20-80.89619%5D%2C%20%5B47.62893%2C%20-117.48758000000001%5D%2C%20%5B38.703702%2C%20-121.34592099999999%5D%2C%20%5B36.04486%2C%20-86.670446%5D%2C%20%5B39.57582%2C%20-79.97556%5D%2C%20%5B34.145843%2C%20-117.300757%5D%2C%20%5B39.26758%2C%20-121.014376%5D%2C%20%5B34.171267%2C%20-118.51500300000001%5D%2C%20%5B41.149133%2C%20-74.188388%5D%2C%20%5B38.25548%2C%20-119.22328999999999%5D%2C%20%5B39.958489%2C%20-75.603177%5D%2C%20%5B34.066482%2C%20-117.219256%5D%2C%20%5B32.77872%2C%20-117.11228%5D%2C%20%5B33.623746000000004%2C%20-84.458333%5D%2C%20%5B36.81568%2C%20-121.638373%5D%2C%20%5B42.79033%2C%20-86.10897%5D%2C%20%5B32.250690000000006%2C%20-110.8409%5D%2C%20%5B35.944829999999996%2C%20-83.202027%5D%2C%20%5B36.960584000000004%2C%20-76.266362%5D%2C%20%5B34.06746%2C%20-80.92296%5D%2C%20%5B43.142140000000005%2C%20-76.11782%5D%2C%20%5B45.597684%2C%20-122.059008%5D%2C%20%5B34.121629%2C%20-117.740452%5D%2C%20%5B39.014446%2C%20-77.095051%5D%2C%20%5B39.769144%2C%20-119.68524%5D%2C%20%5B40.749590000000005%2C%20-73.96688%5D%2C%20%5B30.417828000000004%2C%20-91.18559%5D%2C%20%5B43.34449%2C%20-121.7494%5D%2C%20%5B39.89536%2C%20-76.5649%5D%2C%20%5B47.849843%2C%20-122.612804%5D%2C%20%5B34.01158%2C%20-118.41808999999999%5D%2C%20%5B37.30215%2C%20-121.87648%5D%2C%20%5B42.971808%2C%20-85.656322%5D%2C%20%5B46.79503%2C%20-100.79457099999999%5D%2C%20%5B40.743089000000005%2C%20-113.07162199999999%5D%2C%20%5B33.81423%2C%20-118.17156000000001%5D%2C%20%5B37.885139%2C%20-122.309%5D%2C%20%5B39.088713%2C%20-104.861928%5D%2C%20%5B34.08243%2C%20-118.29626999999999%5D%2C%20%5B36.385553%2C%20-119.44423%5D%2C%20%5B34.835572%2C%20-82.306149%5D%2C%20%5B34.144690000000004%2C%20-118.16824%5D%2C%20%5B35.670596%2C%20-78.575289%5D%2C%20%5B32.966986999999996%2C%20-80.075019%5D%2C%20%5B42.33655%2C%20-83.03851999999999%5D%2C%20%5B29.755640000000003%2C%20-95.55819%5D%2C%20%5B34.147318%2C%20-81.195225%5D%2C%20%5B25.626326000000002%2C%20-80.382214%5D%2C%20%5B33.73985%2C%20-117.83121000000001%5D%2C%20%5B38.41231%2C%20-121.39033%5D%2C%20%5B45.191047999999995%2C%20-93.545976%5D%2C%20%5B37.206359%2C%20-80.235536%5D%2C%20%5B34.98102%2C%20-91.87374%5D%2C%20%5B38.81143%2C%20-76.96307%5D%2C%20%5B37.246190000000006%2C%20-121.96152%5D%2C%20%5B45.52868%2C%20-122.66533000000001%5D%2C%20%5B33.46208%2C%20-112.10217%5D%2C%20%5B45.090990000000005%2C%20-93.40229000000001%5D%2C%20%5B35.08533%2C%20-89.87541999999999%5D%2C%20%5B34.081579999999995%2C%20-117.72332%5D%2C%20%5B30.519077000000003%2C%20-87.284076%5D%2C%20%5B42.331385%2C%20-122.870272%5D%2C%20%5B36.670487%2C%20-121.63856299999999%5D%2C%20%5B40.60767%2C%20-111.90516000000001%5D%2C%20%5B42.518279%2C%20-123.36462%5D%2C%20%5B27.857115000000004%2C%20-82.728709%5D%2C%20%5B44.95405%2C%20-93.07283000000001%5D%2C%20%5B40.11401%2C%20-75.270636%5D%2C%20%5B32.62805%2C%20-80.88334%5D%2C%20%5B46.656092%2C%20-112.126756%5D%2C%20%5B33.994033%2C%20-117.89299299999999%5D%2C%20%5B28.452939%2C%20-81.400159%5D%2C%20%5B38.687726%2C%20-121.343884%5D%2C%20%5B33.805152%2C%20-79.01013%5D%2C%20%5B33.774464%2C%20-118.074628%5D%2C%20%5B39.500671000000004%2C%20-76.896281%5D%2C%20%5B37.119167%2C%20-121.62638899999999%5D%2C%20%5B28.509916999999998%2C%20-81.419492%5D%2C%20%5B40.8447%2C%20-73.92486%5D%2C%20%5B35.53685%2C%20-97.53388000000001%5D%2C%20%5B36.923041999999995%2C%20-119.894318%5D%2C%20%5B37.92824%2C%20-122.38368999999999%5D%2C%20%5B26.203604000000002%2C%20-80.140939%5D%2C%20%5B39.98935%2C%20-75.20638000000001%5D%2C%20%5B39.09941%2C%20-84.5075%5D%2C%20%5B37.521496%2C%20-77.455495%5D%2C%20%5B33.46216%2C%20-112.0236%5D%2C%20%5B34.13646%2C%20-117.57176000000001%5D%2C%20%5B34.036105%2C%20-118.09218%5D%2C%20%5B38.731741%2C%20-120.78995%5D%2C%20%5B41.798206%2C%20-86.068783%5D%2C%20%5B37.78416%2C%20-122.184137%5D%2C%20%5B26.165860000000002%2C%20-80.16101%5D%2C%20%5B34.024031%2C%20-117.77092900000001%5D%2C%20%5B33.764945000000004%2C%20-117.865544%5D%2C%20%5B40.591596%2C%20-111.901899%5D%2C%20%5B36.844788%2C%20-76.17043199999999%5D%2C%20%5B30.233559999999997%2C%20-97.741176%5D%2C%20%5B39.56993%2C%20-76.13472%5D%2C%20%5B41.60582%2C%20-87.70385999999999%5D%2C%20%5B29.8133%2C%20-95.46222%5D%2C%20%5B34.065107%2C%20-117.25880900000001%5D%2C%20%5B38.596531%2C%20-121.475729%5D%2C%20%5B42.23261%2C%20-87.85495%5D%2C%20%5B47.39686%2C%20-121.49089%5D%2C%20%5B33.809824%2C%20-118.289345%5D%2C%20%5B27.298333000000003%2C%20-80.415819%5D%2C%20%5B30.375873%2C%20-84.270323%5D%2C%20%5B30.250071000000002%2C%20-81.59004%5D%2C%20%5B28.603718%2C%20-81.31080899999999%5D%2C%20%5B34.135222999999996%2C%20-117.59343100000001%5D%2C%20%5B34.000753%2C%20-117.844563%5D%2C%20%5B28.450788%2C%20-81.476777%5D%2C%20%5B37.65497%2C%20-104.79096%5D%2C%20%5B38.72145%2C%20-104.729712%5D%2C%20%5B40.067535%2C%20-75.146666%5D%2C%20%5B34.071803%2C%20-118.122867%5D%2C%20%5B41.032626%2C%20-111.937655%5D%2C%20%5B33.8597%2C%20-118.30364399999999%5D%2C%20%5B33.17137%2C%20-97.08714%5D%2C%20%5B34.149556%2C%20-118.664777%5D%2C%20%5B40.412890000000004%2C%20-111.87311000000001%5D%2C%20%5B40.357137%2C%20-79.523191%5D%2C%20%5B26.368335%2C%20-80.11828%5D%2C%20%5B34.17413%2C%20-118.84971000000002%5D%2C%20%5B43.632560999999995%2C%20-73.94188%5D%2C%20%5B34.082564%2C%20-80.94095300000001%5D%2C%20%5B39.72858%2C%20-105.17438999999999%5D%2C%20%5B40.435697999999995%2C%20-111.93021200000001%5D%2C%20%5B35.442358%2C%20-87.04234%5D%2C%20%5B33.858135%2C%20-117.979506%5D%2C%20%5B45.855463%2C%20-95.423287%5D%2C%20%5B35.418238%2C%20-119.021252%5D%2C%20%5B44.456401%2C%20-120.44749499999999%5D%2C%20%5B25.141581%2C%20-80.398937%5D%2C%20%5B41.14691%2C%20-111.9619%5D%2C%20%5B41.180952000000005%2C%20-79.68610100000001%5D%2C%20%5B41.573971%2C%20-87.505577%5D%2C%20%5B37.34897%2C%20-122.0598%5D%2C%20%5B37.787354%2C%20-122.247965%5D%2C%20%5B40.75327%2C%20-74.21083%5D%2C%20%5B33.673496%2C%20-117.88606100000001%5D%2C%20%5B37.780734%2C%20-122.238588%5D%2C%20%5B25.782307%2C%20-80.23074%5D%2C%20%5B45.668051%2C%20-121.237204%5D%2C%20%5B33.82195%2C%20-118.20685%5D%2C%20%5B43.080749%2C%20-121.825878%5D%2C%20%5B25.925478%2C%20-80.291995%5D%2C%20%5B27.95079%2C%20-82.52181999999999%5D%2C%20%5B41.820516%2C%20-87.64585%5D%2C%20%5B37.326753000000004%2C%20-122.353075%5D%2C%20%5B41.90578%2C%20-87.96486%5D%2C%20%5B33.8854%2C%20-117.51718000000001%5D%2C%20%5B28.0692%2C%20-82.43455%5D%2C%20%5B25.886877%2C%20-80.20912299999999%5D%2C%20%5B40.535796000000005%2C%20-74.344307%5D%2C%20%5B42.011759000000005%2C%20-86.53246999999999%5D%2C%20%5B46.505393%2C%20-92.67469100000001%5D%2C%20%5B35.42303%2C%20-97.61421999999999%5D%2C%20%5B30.498074%2C%20-86.136222%5D%2C%20%5B40.023435%2C%20-75.034088%5D%2C%20%5B44.8461%2C%20-124.04638999999999%5D%2C%20%5B47.462340000000005%2C%20-122.25001%5D%2C%20%5B25.769489%2C%20-80.337262%5D%2C%20%5B28.512992999999998%2C%20-81.37469%5D%2C%20%5B35.47885%2C%20-97.70681%5D%2C%20%5B45.41381%2C%20-122.57336000000001%5D%2C%20%5B33.960141%2C%20-118.23158899999999%5D%2C%20%5B30.321620000000003%2C%20-81.69487%5D%2C%20%5B37.73738%2C%20-79.25376999999999%5D%2C%20%5B44.85947%2C%20-93.36224%5D%2C%20%5B38.51405%2C%20-90.33546%5D%2C%20%5B34.156894%2C%20-79.751503%5D%2C%20%5B34.28291%2C%20-118.41501000000001%5D%2C%20%5B40.741521%2C%20-112.18793000000001%5D%2C%20%5B35.238403000000005%2C%20-80.776885%5D%2C%20%5B33.830197999999996%2C%20-118.239949%5D%2C%20%5B41.879020000000004%2C%20-88.24426%5D%2C%20%5B35.21143%2C%20-80.81675%5D%2C%20%5B35.32574%2C%20-80.94506%5D%2C%20%5B38.550329999999995%2C%20-121.47381999999999%5D%2C%20%5B37.722303000000004%2C%20-122.037299%5D%2C%20%5B33.20967%2C%20-82.37389399999999%5D%2C%20%5B47.390813%2C%20-122.28513899999999%5D%2C%20%5B34.116301%2C%20-118.17093799999999%5D%2C%20%5B38.675994%2C%20-122.59197900000001%5D%2C%20%5B26.12789%2C%20-80.16954%5D%2C%20%5B40.948412%2C%20-73.747956%5D%2C%20%5B33.94623%2C%20-117.388719%5D%2C%20%5B33.741254999999995%2C%20-84.410673%5D%2C%20%5B37.700891999999996%2C%20-121.822675%5D%2C%20%5B34.275192%2C%20-118.536193%5D%2C%20%5B35.27962%2C%20-80.73564%5D%2C%20%5B39.169728000000006%2C%20-77.263692%5D%2C%20%5B37.635952%2C%20-77.451821%5D%2C%20%5B33.757263%2C%20-84.46923100000001%5D%2C%20%5B38.796576%2C%20-77.134848%5D%2C%20%5B33.982245%2C%20-118.394621%5D%2C%20%5B35.897962%2C%20-86.460915%5D%2C%20%5B40.633524%2C%20-74.14528%5D%2C%20%5B37.248255%2C%20-121.83218799999999%5D%2C%20%5B37.96%2C%20-122.50562%5D%2C%20%5B34.991315%2C%20-118.94671000000001%5D%2C%20%5B35.418096999999996%2C%20-119.04957399999999%5D%2C%20%5B34.039794%2C%20-118.580951%5D%2C%20%5B34.498028999999995%2C%20-118.12104099999999%5D%2C%20%5B44.915859999999995%2C%20-92.9799%5D%2C%20%5B34.161096%2C%20-118.46961200000001%5D%2C%20%5B29.77135%2C%20-95.32992%5D%2C%20%5B33.936846%2C%20-84.497552%5D%2C%20%5B38.99794%2C%20-84.64678%5D%2C%20%5B45.527409999999996%2C%20-117.47706000000001%5D%2C%20%5B45.301462%2C%20-121.741118%5D%2C%20%5B37.745942%2C%20-122.200952%5D%2C%20%5B25.540651%2C%20-80.37207099999999%5D%2C%20%5B42.32954%2C%20-120.30046999999999%5D%2C%20%5B45.372820000000004%2C%20-117.99231%5D%2C%20%5B25.832221%2C%20-80.20580799999999%5D%2C%20%5B44.79784%2C%20-123.03301%5D%2C%20%5B42.31147%2C%20-87.903176%5D%2C%20%5B33.95962%2C%20-81.22698000000001%5D%2C%20%5B31.976683%2C%20-87.617372%5D%2C%20%5B36.747432%2C%20-119.802764%5D%2C%20%5B34.174107%2C%20-118.391585%5D%2C%20%5B40.54142%2C%20-74.36584%5D%2C%20%5B44.036%2C%20-92.55243%5D%2C%20%5B33.664026%2C%20-117.385084%5D%2C%20%5B41.81091%2C%20-71.35161%5D%2C%20%5B36.74365%2C%20-119.80989%5D%2C%20%5B44.177725%2C%20-93.949095%5D%2C%20%5B28.20615%2C%20-82.66381899999999%5D%2C%20%5B47.097271%2C%20-122.43495%5D%2C%20%5B41.81278%2C%20-87.75729%5D%2C%20%5B45.6384%2C%20-123.35656999999999%5D%2C%20%5B33.190234000000004%2C%20-117.36245600000001%5D%2C%20%5B40.83616%2C%20-73.82455%5D%2C%20%5B32.695451%2C%20-117.09476299999999%5D%2C%20%5B40.71816%2C%20-111.87593999999999%5D%2C%20%5B33.56994%2C%20-111.89084%5D%2C%20%5B30.21615%2C%20-81.76108%5D%2C%20%5B40.523918%2C%20-111.890956%5D%2C%20%5B38.70102%2C%20-122.95221000000001%5D%2C%20%5B28.5058%2C%20-81.421977%5D%2C%20%5B38.932875%2C%20-78.477262%5D%2C%20%5B32.279270000000004%2C%20-110.98666999999999%5D%2C%20%5B37.251915999999994%2C%20-121.93743899999998%5D%2C%20%5B42.670131%2C%20-73.73082099999999%5D%2C%20%5B34.16018%2C%20-80.90985%5D%2C%20%5B40.78783%2C%20-73.37791999999999%5D%2C%20%5B36.84677%2C%20-75.99313000000001%5D%2C%20%5B39.997659000000006%2C%20-75.484888%5D%2C%20%5B35.372690999999996%2C%20-80.789604%5D%2C%20%5B42.44184%2C%20-84.95215%5D%2C%20%5B44.033352%2C%20-123.031332%5D%2C%20%5B39.141740999999996%2C%20-121.63466000000001%5D%2C%20%5B40.785803%2C%20-73.93975999999999%5D%2C%20%5B33.910918%2C%20-117.88372199999999%5D%2C%20%5B37.620287%2C%20-122.076218%5D%2C%20%5B29.822644%2C%20-95.5415%5D%2C%20%5B47.63839%2C%20-122.32328000000001%5D%2C%20%5B37.125352%2C%20-122.12234699999999%5D%2C%20%5B34.347021000000005%2C%20-117.476956%5D%2C%20%5B43.004678999999996%2C%20-83.595877%5D%2C%20%5B45.303264%2C%20-93.55283299999999%5D%2C%20%5B41.735640000000004%2C%20-84.98805%5D%2C%20%5B38.288423%2C%20-121.31074299999999%5D%2C%20%5B41.51182%2C%20-88.10226%5D%2C%20%5B34.132335%2C%20-117.22613700000001%5D%2C%20%5B34.092239%2C%20-118.47573600000001%5D%2C%20%5B38.141487%2C%20-122.22894%5D%2C%20%5B44.9663%2C%20-93.225334%5D%2C%20%5B41.550024%2C%20-90.52141%5D%2C%20%5B34.01898%2C%20-117.56715%5D%2C%20%5B38.661013%2C%20-121.36435%5D%2C%20%5B39.54554%2C%20-86.03833%5D%2C%20%5B33.422129999999996%2C%20-111.87437%5D%2C%20%5B34.71855%2C%20-86.63245%5D%2C%20%5B39.044959999999996%2C%20-94.39095%5D%2C%20%5B41.82731%2C%20-71.41918000000001%5D%2C%20%5B42.48531%2C%20-83.45730999999999%5D%2C%20%5B37.36408%2C%20-122.1243%5D%2C%20%5B43.140097%2C%20-89.389032%5D%2C%20%5B39.3816%2C%20-77.2655%5D%2C%20%5B33.974722%2C%20-118.23022900000001%5D%2C%20%5B34.040523%2C%20-118.187009%5D%2C%20%5B43.47351%2C%20-123.31700000000001%5D%2C%20%5B26.26943%2C%20-80.1258%5D%2C%20%5B41.345546%2C%20-72.969755%5D%2C%20%5B37.436640000000004%2C%20-121.91968999999999%5D%2C%20%5B41.22286%2C%20-95.98183%5D%2C%20%5B39.231646999999995%2C%20-123.20821000000001%5D%2C%20%5B40.166833000000004%2C%20-111.64651%5D%2C%20%5B40.541641999999996%2C%20-74.304624%5D%2C%20%5B34.301301%2C%20-117.45930700000001%5D%2C%20%5B36.760269%2C%20-119.77533799999999%5D%2C%20%5B32.77029%2C%20-96.8015%5D%2C%20%5B37.83265%2C%20-122.26661999999999%5D%2C%20%5B40.747227%2C%20-73.168865%5D%2C%20%5B40.5929%2C%20-75.56676%5D%2C%20%5B43.12673%2C%20-89.291%5D%2C%20%5B34.266090000000005%2C%20-118.47158999999999%5D%2C%20%5B33.3964%2C%20-84.61899%5D%2C%20%5B37.605761%2C%20-121.83528899999999%5D%2C%20%5B40.057695%2C%20-77.48159799999999%5D%2C%20%5B45.897907000000004%2C%20-111.51789299999999%5D%2C%20%5B41.70626%2C%20-122.437722%5D%2C%20%5B34.887313%2C%20-82.373822%5D%2C%20%5B43.58781%2C%20-111.625179%5D%2C%20%5B42.55918%2C%20-83.13713%5D%2C%20%5B35.04746%2C%20-79.76439%5D%2C%20%5B25.928607999999997%2C%20-80.20930200000001%5D%2C%20%5B39.020121%2C%20-121.344668%5D%2C%20%5B46.917575%2C%20-112.12001599999999%5D%2C%20%5B33.774408%2C%20-118.030961%5D%2C%20%5B41.46289%2C%20-81.69369%5D%2C%20%5B44.861999999999995%2C%20-93.51128%5D%2C%20%5B38.29176%2C%20-77.50671%5D%2C%20%5B38.652646999999995%2C%20-122.599787%5D%2C%20%5B36.968795%2C%20-119.625694%5D%2C%20%5B30.451657%2C%20-91.180366%5D%2C%20%5B32.725015%2C%20-117.07423100000001%5D%2C%20%5B37.470236%2C%20-122.15772199999999%5D%2C%20%5B39.498199%2C%20-77.954789%5D%2C%20%5B40.16191%2C%20-75.1194%5D%2C%20%5B35.408603%2C%20-119.03651200000002%5D%2C%20%5B33.974647999999995%2C%20-118.28464199999999%5D%2C%20%5B30.197358%2C%20-93.180037%5D%2C%20%5B38.82111%2C%20-76.84845%5D%2C%20%5B36.158840000000005%2C%20-115.14755%5D%2C%20%5B38.00034%2C%20-121.26026%5D%2C%20%5B37.957182%2C%20-122.50883200000001%5D%2C%20%5B33.973077%2C%20-117.33251899999999%5D%2C%20%5B40.307255%2C%20-75.900013%5D%2C%20%5B34.15297%2C%20-118.27965%5D%2C%20%5B33.681020000000004%2C%20-117.85278000000001%5D%2C%20%5B40.39662%2C%20-83.26831%5D%2C%20%5B35.45963%2C%20-97.5367%5D%2C%20%5B42.38084%2C%20-83.03227%5D%2C%20%5B34.170535%2C%20-118.50108999999999%5D%2C%20%5B39.74473%2C%20-77.08821999999999%5D%2C%20%5B32.698792%2C%20-96.934919%5D%2C%20%5B36.18374%2C%20-115.14397%5D%2C%20%5B27.52931%2C%20-99.45766%5D%2C%20%5B30.397528%2C%20-91.08448100000001%5D%2C%20%5B40.5061%2C%20-111.41348%5D%2C%20%5B35.13674%2C%20-80.78323%5D%2C%20%5B34.008125%2C%20-117.96873400000001%5D%2C%20%5B25.82872%2C%20-80.20608%5D%2C%20%5B35.153149%2C%20-90.05653000000001%5D%2C%20%5B47.21881%2C%20-116.49076000000001%5D%2C%20%5B25.870104%2C%20-80.20809200000001%5D%2C%20%5B33.93847%2C%20-92.03108399999999%5D%2C%20%5B37.42855%2C%20-121.88513999999999%5D%2C%20%5B41.7217%2C%20-87.62416%5D%2C%20%5B33.87232%2C%20-117.39030600000001%5D%2C%20%5B38.765471999999995%2C%20-122.99151%5D%2C%20%5B25.670941%2C%20-80.414505%5D%2C%20%5B34.034948%2C%20-118.333697%5D%2C%20%5B39.299329%2C%20-76.802745%5D%2C%20%5B33.19123%2C%20-94.93705%5D%2C%20%5B34.434946000000004%2C%20-118.61809099999999%5D%2C%20%5B33.8069%2C%20-117.83175%5D%2C%20%5B38.597254%2C%20-121.54893600000001%5D%2C%20%5B41.038173%2C%20-111.94966399999998%5D%2C%20%5B30.448562%2C%20-91.056893%5D%2C%20%5B38.62865%2C%20-121.38305%5D%2C%20%5B42.542904%2C%20-72.300402%5D%2C%20%5B43.15396%2C%20-77.53772%5D%2C%20%5B32.716359999999995%2C%20-96.828856%5D%2C%20%5B34.068657%2C%20-118.15103799999999%5D%2C%20%5B34.78366%2C%20-82.475227%5D%2C%20%5B43.117329999999995%2C%20-123.35903%5D%2C%20%5B34.346431%2C%20-118.504223%5D%2C%20%5B40.593548999999996%2C%20-111.90239299999999%5D%2C%20%5B40.470968%2C%20-111.39089799999999%5D%2C%20%5B38.867259999999995%2C%20-77.31728000000001%5D%2C%20%5B34.121041999999996%2C%20-117.8797%5D%2C%20%5B34.06882%2C%20-117.35705%5D%2C%20%5B38.641195%2C%20-121.381556%5D%2C%20%5B30.784470000000002%2C%20-88.27649%5D%2C%20%5B40.72576%2C%20-112.00448999999999%5D%2C%20%5B38.082042%2C%20-79.080968%5D%2C%20%5B41.886793%2C%20-87.64652099999999%5D%2C%20%5B39.828559999999996%2C%20-85.59817%5D%2C%20%5B38.681694%2C%20-120.915253%5D%2C%20%5B35.71835%2C%20-78.63866%5D%2C%20%5B45.421375%2C%20-122.57595400000001%5D%2C%20%5B40.57414%2C%20-74.63736999999999%5D%2C%20%5B43.654507%2C%20-123.87635300000001%5D%2C%20%5B39.17563%2C%20-84.39841%5D%2C%20%5B27.207190999999998%2C%20-82.490411%5D%2C%20%5B38.87343%2C%20-77.22048000000001%5D%2C%20%5B43.92558%2C%20-91.43947%5D%2C%20%5B45.617940000000004%2C%20-122.80696999999999%5D%2C%20%5B35.26125%2C%20-80.8369%5D%2C%20%5B33.916307%2C%20-84.48204100000001%5D%2C%20%5B44.97237%2C%20-93.29404%5D%2C%20%5B27.07955%2C%20-82.33076%5D%2C%20%5B40.42071%2C%20-123.174683%5D%2C%20%5B37.321232%2C%20-121.834055%5D%2C%20%5B34.186639%2C%20-118.473991%5D%2C%20%5B28.10347%2C%20-81.94696%5D%2C%20%5B44.470307%2C%20-122.811994%5D%2C%20%5B34.26034%2C%20-118.43873%5D%2C%20%5B40.694716%2C%20-111.981394%5D%2C%20%5B40.62834%2C%20-74.27169%5D%2C%20%5B36.7598%2C%20-121.75504%5D%2C%20%5B44.858703000000006%2C%20-93.53192299999999%5D%2C%20%5B34.261253%2C%20-118.331147%5D%2C%20%5B29.482459999999996%2C%20-81.55703100000001%5D%2C%20%5B34.074155%2C%20-117.617107%5D%2C%20%5B41.60413%2C%20-87.58334%5D%2C%20%5B32.70297%2C%20-96.59900999999999%5D%2C%20%5B28.748620000000003%2C%20-81.36582%5D%2C%20%5B33.829318%2C%20-117.528149%5D%2C%20%5B36.04461%2C%20-86.658974%5D%2C%20%5B45.539882%2C%20-122.45666299999999%5D%2C%20%5B42.250605%2C%20-87.86251%5D%2C%20%5B33.9136%2C%20-84.20464%5D%2C%20%5B44.09168%2C%20-123.09913%5D%2C%20%5B36.659735%2C%20-82.066467%5D%2C%20%5B45.577171%2C%20-122.654676%5D%2C%20%5B40.649328999999994%2C%20-111.88849099999999%5D%2C%20%5B45.537271000000004%2C%20-122.69754099999999%5D%2C%20%5B42.95404%2C%20-71.444919%5D%2C%20%5B33.31539%2C%20-111.97211000000001%5D%2C%20%5B47.697725%2C%20-122.32846%5D%2C%20%5B44.948409999999996%2C%20-92.91190999999999%5D%2C%20%5B40.42982%2C%20-79.88436%5D%2C%20%5B42.43761%2C%20-123.2787%5D%2C%20%5B40.849839%2C%20-73.943795%5D%2C%20%5B32.92455%2C%20-96.78246%5D%2C%20%5B25.963989%2C%20-80.332972%5D%2C%20%5B38.337139%2C%20-122.01649099999999%5D%2C%20%5B43.674659999999996%2C%20-121.50023%5D%2C%20%5B33.87719%2C%20-118.145824%5D%2C%20%5B29.519372999999998%2C%20-98.55484100000001%5D%2C%20%5B29.600853999999998%2C%20-98.418573%5D%2C%20%5B45.6041%2C%20-121.13445%5D%2C%20%5B38.21911%2C%20-85.50582%5D%2C%20%5B32.85253%2C%20-116.94986000000002%5D%2C%20%5B34.036531%2C%20-118.381307%5D%2C%20%5B39.750571%2C%20-121.90333999999999%5D%2C%20%5B33.871128000000006%2C%20-118.006702%5D%2C%20%5B38.6285%2C%20-75.87163000000001%5D%2C%20%5B33.826209999999996%2C%20-117.92603999999999%5D%2C%20%5B43.704032%2C%20-73.994937%5D%2C%20%5B33.489531%2C%20-84.219495%5D%2C%20%5B39.09878%2C%20-84.50843%5D%2C%20%5B47.593588000000004%2C%20-92.552384%5D%2C%20%5B33.687994%2C%20-117.907896%5D%2C%20%5B42.2209%2C%20-87.89801%5D%2C%20%5B44.690545%2C%20-69.635564%5D%2C%20%5B34.819959999999995%2C%20-82.25636%5D%2C%20%5B36.945102%2C%20-79.846589%5D%2C%20%5B41.962663%2C%20-121.920897%5D%2C%20%5B41.723853000000005%2C%20-72.788275%5D%2C%20%5B34.064301%2C%20-117.262927%5D%2C%20%5B43.15756%2C%20-75.97935%5D%2C%20%5B41.793690000000005%2C%20-87.69381%5D%2C%20%5B32.295438%2C%20-90.270699%5D%2C%20%5B34.10375%2C%20-117.98352%5D%2C%20%5B42.23392%2C%20-88.81078000000001%5D%2C%20%5B43.174756%2C%20-78.60648%5D%2C%20%5B37.795629999999996%2C%20-122.26773%5D%2C%20%5B40.86851%2C%20-73.87236%5D%2C%20%5B33.9096%2C%20-79.04554%5D%2C%20%5B43.09773%2C%20-76.14544000000001%5D%2C%20%5B30.375110999999997%2C%20-97.73156999999999%5D%2C%20%5B33.979223%2C%20-118.28059099999999%5D%2C%20%5B33.871908000000005%2C%20-117.68709299999999%5D%2C%20%5B40.34254%2C%20-79.96468%5D%2C%20%5B40.255154%2C%20-75.663701%5D%2C%20%5B43.917621000000004%2C%20-123.01251%5D%2C%20%5B32.84689%2C%20-97.11407%5D%2C%20%5B45.588284%2C%20-122.545468%5D%2C%20%5B32.933038%2C%20-96.901661%5D%2C%20%5B34.08328%2C%20-118.221652%5D%2C%20%5B36.17804%2C%20-86.764%5D%2C%20%5B34.03067%2C%20-117.6067%5D%2C%20%5B38.25114%2C%20-85.74998000000001%5D%2C%20%5B34.301301%2C%20-117.45930700000001%5D%2C%20%5B33.902231%2C%20-118.37055%5D%2C%20%5B41.605967%2C%20-72.276902%5D%2C%20%5B41.164451%2C%20-75.955492%5D%2C%20%5B43.079382%2C%20-77.407464%5D%2C%20%5B44.36755%2C%20-73.23248000000001%5D%2C%20%5B33.395478999999995%2C%20-117.59266000000001%5D%2C%20%5B29.585109999999997%2C%20-95.38653000000001%5D%2C%20%5B34.208825%2C%20-110.07771299999999%5D%2C%20%5B43.06793%2C%20-87.94801%5D%2C%20%5B42.42726%2C%20-83.18273%5D%2C%20%5B33.576747999999995%2C%20-81.774918%5D%2C%20%5B34.345034999999996%2C%20-80.079513%5D%2C%20%5B38.5542%2C%20-121.40773%5D%2C%20%5B35.34807%2C%20-80.84604%5D%2C%20%5B41.79442%2C%20-87.63786999999999%5D%2C%20%5B38.11887%2C%20-85.63811%5D%2C%20%5B39.816309000000004%2C%20-84.130307%5D%2C%20%5B28.257429%2C%20-82.72770600000001%5D%2C%20%5B34.03167%2C%20-118.02193999999999%5D%2C%20%5B30.039764%2C%20-89.971536%5D%2C%20%5B37.55415%2C%20-122.29162%5D%2C%20%5B32.917064%2C%20-117.115797%5D%2C%20%5B47.18003%2C%20-122.29352%5D%2C%20%5B33.92165%2C%20-118.17838%5D%2C%20%5B33.75825%2C%20-117.85882%5D%2C%20%5B45.12911%2C%20-93.36251%5D%2C%20%5B33.644144%2C%20-117.735674%5D%2C%20%5B25.784311%2C%20-80.292078%5D%2C%20%5B41.87115%2C%20-70.59917%5D%2C%20%5B40.63459%2C%20-111.89526000000001%5D%2C%20%5B34.180964%2C%20-118.31400500000001%5D%2C%20%5B37.882011%2C%20-121.777321%5D%2C%20%5B30.380658%2C%20-87.06747%5D%2C%20%5B45.03866%2C%20-93.04137%5D%2C%20%5B42.43309%2C%20-88.21913%5D%2C%20%5B39.159279999999995%2C%20-84.56345%5D%2C%20%5B37.086721000000004%2C%20-80.615948%5D%2C%20%5B32.2503%2C%20-110.98225%5D%2C%20%5B34.07074%2C%20-81.14567%5D%2C%20%5B34.9673%2C%20-82.00907%5D%2C%20%5B33.76727%2C%20-84.65799%5D%2C%20%5B40.72417%2C%20-111.94255%5D%2C%20%5B36.09592%2C%20-80.24669%5D%2C%20%5B34.120436%2C%20-118.271244%5D%2C%20%5B33.87066%2C%20-118.10028999999999%5D%2C%20%5B40.1079%2C%20-75.16337%5D%2C%20%5B35.684665%2C%20-78.748047%5D%2C%20%5B40.17233%2C%20-75.07342%5D%2C%20%5B38.790128%2C%20-76.998452%5D%2C%20%5B43.12612%2C%20-77.57417%5D%2C%20%5B35.59465%2C%20-97.60299%5D%2C%20%5B33.975229999999996%2C%20-117.549015%5D%2C%20%5B39.496217%2C%20-85.875452%5D%2C%20%5B40.260182%2C%20-111.70476699999999%5D%2C%20%5B38.67667%2C%20-121.028727%5D%2C%20%5B38.550088%2C%20-121.474048%5D%2C%20%5B40.707640000000005%2C%20-74.1546%5D%2C%20%5B34.216725%2C%20-119.03420700000001%5D%2C%20%5B32.69402%2C%20-96.63741%5D%2C%20%5B47.230664000000004%2C%20-122.44338799999998%5D%2C%20%5B25.76996%2C%20-80.320837%5D%2C%20%5B42.959412%2C%20-85.65431099999999%5D%2C%20%5B39.9599%2C%20-75.17539000000001%5D%2C%20%5B33.99872%2C%20-118.17627%5D%2C%20%5B26.083787%2C%20-80.19329499999999%5D%2C%20%5B34.829653%2C%20-82.256785%5D%2C%20%5B25.97085%2C%20-80.311491%5D%2C%20%5B40.71732%2C%20-73.8312%5D%2C%20%5B44.938990000000004%2C%20-123.03933%5D%2C%20%5B37.80948%2C%20-122.27593999999999%5D%2C%20%5B39.067114000000004%2C%20-76.89568100000001%5D%2C%20%5B45.41795%2C%20-122.41363999999999%5D%2C%20%5B42.941047999999995%2C%20-85.639429%5D%2C%20%5B33.846940999999994%2C%20-117.96216499999998%5D%2C%20%5B39.022718%2C%20-76.941365%5D%2C%20%5B33.89938%2C%20-83.72322%5D%2C%20%5B39.05296%2C%20-94.4971%5D%2C%20%5B33.8315%2C%20-118.084277%5D%2C%20%5B35.15676%2C%20-80.87623%5D%2C%20%5B42.356559999999995%2C%20-87.93559%5D%2C%20%5B25.845332%2C%20-80.322118%5D%2C%20%5B38.340559999999996%2C%20-77.49154899999999%5D%2C%20%5B40.302323%2C%20-121.41941200000001%5D%2C%20%5B42.398790000000005%2C%20-83.10909000000001%5D%2C%20%5B42.40631%2C%20-82.95625%5D%2C%20%5B43.10062%2C%20-87.91808%5D%2C%20%5B34.030590999999994%2C%20-117.63330800000001%5D%2C%20%5B33.90505%2C%20-118.37053999999999%5D%2C%20%5B39.969809999999995%2C%20-74.73536%5D%2C%20%5B40.349695000000004%2C%20-111.58890500000001%5D%2C%20%5B42.52413%2C%20-122.81407%5D%2C%20%5B34.356147%2C%20-119.440172%5D%2C%20%5B41.027577%2C%20-78.43982%5D%2C%20%5B45.388333%2C%20-93.562709%5D%2C%20%5B32.77742%2C%20-96.78026%5D%2C%20%5B39.607009999999995%2C%20-75.651985%5D%2C%20%5B39.292978999999995%2C%20-94.4124%5D%2C%20%5B38.638798%2C%20-90.494049%5D%2C%20%5B29.81785%2C%20-95.37722%5D%2C%20%5B40.055683%2C%20-75.126768%5D%2C%20%5B34.052892%2C%20-117.54816000000001%5D%2C%20%5B45.38435%2C%20-122.81711999999999%5D%2C%20%5B33.71188%2C%20-117.84831000000001%5D%2C%20%5B34.04719%2C%20-112.14851999999999%5D%2C%20%5B39.322379999999995%2C%20-120.60642%5D%2C%20%5B43.255765999999994%2C%20-121.78381100000001%5D%2C%20%5B34.033831%2C%20-118.146976%5D%2C%20%5B34.0185%2C%20-117.53738999999999%5D%2C%20%5B30.49721%2C%20-91.12759%5D%2C%20%5B34.141118%2C%20-80.938346%5D%2C%20%5B30.44469%2C%20-84.28854%5D%2C%20%5B29.870162%2C%20-95.569251%5D%2C%20%5B44.86189%2C%20-93.29775%5D%2C%20%5B36.25793%2C%20-85.464881%5D%2C%20%5B28.662163%2C%20-81.389072%5D%2C%20%5B41.06204%2C%20-81.50482%5D%2C%20%5B44.71289%2C%20-123.05438000000001%5D%2C%20%5B40.35737%2C%20-75.95002%5D%2C%20%5B36.968089%2C%20-87.877839%5D%2C%20%5B28.504851000000002%2C%20-81.285427%5D%2C%20%5B45.19475%2C%20-93.55251%5D%2C%20%5B32.799636%2C%20-96.67710799999999%5D%2C%20%5B37.86117%2C%20-122.03299999999999%5D%2C%20%5B47.712590000000006%2C%20-122.32825%5D%2C%20%5B41.15163%2C%20-80.67004%5D%2C%20%5B39.821469%2C%20-77.186887%5D%2C%20%5B37.700945000000004%2C%20-122.07404299999999%5D%2C%20%5B30.661928000000003%2C%20-87.952977%5D%2C%20%5B39.402326%2C%20-77.399507%5D%2C%20%5B43.08997%2C%20-75.31065%5D%2C%20%5B35.944249%2C%20-80.53860999999999%5D%2C%20%5B27.942729999999997%2C%20-82.46278000000001%5D%2C%20%5B26.808359999999997%2C%20-80.13128%5D%2C%20%5B44.714529999999996%2C%20-93.03439%5D%2C%20%5B40.84728%2C%20-73.93341%5D%2C%20%5B45.5699%2C%20-122.5509%5D%2C%20%5B27.893629999999998%2C%20-82.5064%5D%2C%20%5B42.397259999999996%2C%20-83.43128%5D%2C%20%5B32.750349%2C%20-117.155363%5D%2C%20%5B37.53955%2C%20-77.44075%5D%2C%20%5B38.75679%2C%20-122.9723%5D%2C%20%5B37.447590000000005%2C%20-122.12151000000001%5D%2C%20%5B40.68213%2C%20-111.93888999999999%5D%2C%20%5B43.13541%2C%20-76.12968000000001%5D%2C%20%5B33.823209999999996%2C%20-84.12924%5D%2C%20%5B34.071884999999995%2C%20-118.050606%5D%2C%20%5B40.678540000000005%2C%20-111.46101999999999%5D%2C%20%5B41.84537%2C%20-87.63495%5D%2C%20%5B29.623185%2C%20-98.244284%5D%2C%20%5B44.97181%2C%20-123.06454%5D%2C%20%5B37.631240000000005%2C%20-122.08455%5D%2C%20%5B38.61083%2C%20-121.41535%5D%2C%20%5B34.07744%2C%20-84.72846%5D%2C%20%5B40.15837%2C%20-110.1733%5D%2C%20%5B33.852053999999995%2C%20-117.535048%5D%2C%20%5B38.737266999999996%2C%20-77.192484%5D%2C%20%5B40.82936%2C%20-73.19904%5D%2C%20%5B27.9469%2C%20-82.45274%5D%2C%20%5B41.537099%2C%20-104.32351700000001%5D%2C%20%5B38.637882%2C%20-121.492272%5D%2C%20%5B38.249362%2C%20-122.63238700000001%5D%2C%20%5B39.17539%2C%20-94.53386%5D%2C%20%5B34.006817%2C%20-117.964445%5D%2C%20%5B45.011621000000005%2C%20-123.878984%5D%2C%20%5B38.10145%2C%20-122.56176%5D%2C%20%5B39.23754%2C%20-77.53231%5D%2C%20%5B48.96423%2C%20-122.4852%5D%2C%20%5B38.56179%2C%20-121.64726%5D%2C%20%5B44.93858%2C%20-117.84158000000001%5D%2C%20%5B35.25713%2C%20-80.99356999999999%5D%2C%20%5B42.30304%2C%20-83.11558000000001%5D%2C%20%5B40.731865%2C%20-73.321455%5D%2C%20%5B37.532740000000004%2C%20-77.43200999999999%5D%2C%20%5B39.229565%2C%20-77.532943%5D%2C%20%5B36.720425%2C%20-120.024239%5D%2C%20%5B34.02863%2C%20-81.12501999999999%5D%2C%20%5B39.16053%2C%20-94.59121%5D%2C%20%5B40.31648%2C%20-87.32027%5D%2C%20%5B33.086931%2C%20-97.02792600000001%5D%2C%20%5B44.26918%2C%20-121.21954%5D%2C%20%5B40.407672999999996%2C%20-74.30559000000001%5D%2C%20%5B37.62811%2C%20-122.12167%5D%2C%20%5B25.907435%2C%20-80.211575%5D%2C%20%5B37.813943%2C%20-120.30041000000001%5D%2C%20%5B47.50507%2C%20-94.94754%5D%2C%20%5B37.782073%2C%20-122.23916899999999%5D%2C%20%5B32.987278%2C%20-117.255105%5D%2C%20%5B26.8911%2C%20-82.02351999999999%5D%2C%20%5B40.019766%2C%20-122.448057%5D%2C%20%5B38.93456%2C%20-94.68786%5D%2C%20%5B47.462340000000005%2C%20-122.25001%5D%2C%20%5B41.168212%2C%20-111.963765%5D%2C%20%5B39.21853%2C%20-84.51524%5D%2C%20%5B30.319886%2C%20-97.696772%5D%2C%20%5B28.533732%2C%20-81.28563299999999%5D%2C%20%5B39.27042%2C%20-76.52577%5D%2C%20%5B35.10488%2C%20-106.67545%5D%2C%20%5B40.25332%2C%20-76.8018%5D%2C%20%5B25.768256%2C%20-80.33629599999999%5D%2C%20%5B42.705965%2C%20-84.54800999999999%5D%2C%20%5B27.926509999999997%2C%20-82.33133000000001%5D%2C%20%5B41.219409999999996%2C%20-95.9534%5D%2C%20%5B40.89327%2C%20-74.12023%5D%2C%20%5B38.992356%2C%20-76.888343%5D%2C%20%5B33.77408%2C%20-84.5649%5D%2C%20%5B34.137811%2C%20-118.10148500000001%5D%2C%20%5B36.88275%2C%20-76.4309%5D%2C%20%5B33.979107%2C%20-118.042065%5D%2C%20%5B43.392363%2C%20-123.35763%5D%2C%20%5B32.82009%2C%20-96.628987%5D%2C%20%5B41.95821%2C%20-87.73918%5D%2C%20%5B40.867627%2C%20-74.44626600000001%5D%2C%20%5B33.757551%2C%20-78.967263%5D%2C%20%5B39.206340000000004%2C%20-76.59138%5D%2C%20%5B38.77104%2C%20-90.265556%5D%2C%20%5B36.065459999999995%2C%20-80.22955999999999%5D%2C%20%5B35.844145000000005%2C%20-78.680541%5D%2C%20%5B33.592663%2C%20-84.549176%5D%2C%20%5B33.998647999999996%2C%20-117.855002%5D%2C%20%5B32.714971999999996%2C%20-117.117884%5D%2C%20%5B32.5572%2C%20-93.740211%5D%2C%20%5B35.042935%2C%20-120.476021%5D%2C%20%5B39.5316%2C%20-106.043945%5D%2C%20%5B34.06369%2C%20-117.81538%5D%2C%20%5B29.71528%2C%20-95.50101%5D%2C%20%5B28.451364%2C%20-82.4521%5D%2C%20%5B34.991591%2C%20-85.290224%5D%2C%20%5B34.270144%2C%20-117.290178%5D%2C%20%5B33.561671000000004%2C%20-117.66961699999999%5D%2C%20%5B39.754439%2C%20-75.64943199999999%5D%2C%20%5B26.778159999999996%2C%20-80.0985%5D%2C%20%5B42.660888%2C%20-122.762472%5D%2C%20%5B25.883515%2C%20-80.214325%5D%2C%20%5B38.951124%2C%20-123.690525%5D%2C%20%5B41.409209999999995%2C%20-74.347302%5D%2C%20%5B32.70732%2C%20-117.14667%5D%2C%20%5B33.83242%2C%20-118.20898999999999%5D%2C%20%5B40.2443%2C%20-111.65303%5D%2C%20%5B34.155245%2C%20-118.29389599999999%5D%2C%20%5B33.859061%2C%20-117.985125%5D%2C%20%5B37.850674%2C%20-122.034102%5D%2C%20%5B34.025763%2C%20-117.564021%5D%2C%20%5B38.474392%2C%20-121.408752%5D%2C%20%5B40.353201%2C%20-75.966714%5D%2C%20%5B41.3618%2C%20-82.28072%5D%2C%20%5B37.110814000000005%2C%20-121.01567299999999%5D%2C%20%5B28.545196999999998%2C%20-81.198515%5D%2C%20%5B34.161885999999996%2C%20-117.30046899999999%5D%2C%20%5B45.498796%2C%20-122.790999%5D%2C%20%5B34.26793%2C%20-118.484748%5D%2C%20%5B34.277767%2C%20-118.005967%5D%2C%20%5B45.683535%2C%20-121.398252%5D%2C%20%5B36.193670000000004%2C%20-86.83124000000001%5D%2C%20%5B37.437129999999996%2C%20-77.60059%5D%2C%20%5B32.424717%2C%20-93.694626%5D%2C%20%5B30.576399%2C%20-84.694%5D%2C%20%5B29.603887%2C%20-82.370879%5D%2C%20%5B28.549453000000003%2C%20-81.36437%5D%2C%20%5B40.673257%2C%20-111.470134%5D%2C%20%5B34.157579999999996%2C%20-118.4525%5D%2C%20%5B33.99536%2C%20-117.36164%5D%2C%20%5B30.617681%2C%20-97.60672199999999%5D%2C%20%5B37.55761%2C%20-77.412875%5D%2C%20%5B38.853331%2C%20-76.983336%5D%2C%20%5B35.02749%2C%20-89.75421999999999%5D%2C%20%5B40.69661%2C%20-111.93893%5D%2C%20%5B36.84552%2C%20-76.25585%5D%2C%20%5B34.98384%2C%20-82.27678%5D%2C%20%5B39.29373%2C%20-76.55286%5D%2C%20%5B39.05296%2C%20-94.4971%5D%2C%20%5B34.706136%2C%20-82.454787%5D%2C%20%5B38.608773%2C%20-75.585817%5D%2C%20%5B33.776165%2C%20-84.595549%5D%2C%20%5B34.08874%2C%20-117.99432%5D%2C%20%5B39.34115%2C%20-76.64754%5D%2C%20%5B33.601324%2C%20-81.862747%5D%2C%20%5B44.76339%2C%20-92.85547%5D%2C%20%5B42.960346%2C%20-85.673822%5D%2C%20%5B32.750219%2C%20-96.756233%5D%2C%20%5B34.340962%2C%20-79.987488%5D%2C%20%5B42.79975%2C%20-85.07451999999999%5D%2C%20%5B36.04%2C%20-86.74349000000001%5D%2C%20%5B26.598838%2C%20-81.640952%5D%2C%20%5B39.178424%2C%20-77.661752%5D%2C%20%5B43.013909999999996%2C%20-115.551956%5D%2C%20%5B37.994782%2C%20-122.069526%5D%2C%20%5B34.15229%2C%20-118.11318%5D%2C%20%5B28.078870000000002%2C%20-80.70591%5D%2C%20%5B42.461329%2C%20-83.10634%5D%2C%20%5B27.516341999999998%2C%20-80.448406%5D%2C%20%5B34.06234%2C%20-118.00018%5D%2C%20%5B41.30232%2C%20-73.92171%5D%2C%20%5B47.23402%2C%20-94.88126%5D%2C%20%5B42.90931%2C%20-85.67683000000001%5D%2C%20%5B39.09881%2C%20-94.607146%5D%2C%20%5B43.99677%2C%20-123.61332%5D%2C%20%5B33.85235%2C%20-117.88198%5D%2C%20%5B41.824529999999996%2C%20-87.63091%5D%2C%20%5B35.714482000000004%2C%20-78.882876%5D%2C%20%5B34.036919%2C%20-118.30036299999999%5D%2C%20%5B32.72723%2C%20-117.155851%5D%2C%20%5B41.54289%2C%20-73.77345%5D%2C%20%5B30.46418%2C%20-91.08438000000001%5D%2C%20%5B42.726323%2C%20-84.529759%5D%2C%20%5B28.076838000000002%2C%20-81.253412%5D%2C%20%5B44.014271%2C%20-121.319461%5D%2C%20%5B25.79693%2C%20-80.32204%5D%2C%20%5B29.688841999999998%2C%20-82.439114%5D%2C%20%5B27.8175%2C%20-82.66487%5D%2C%20%5B30.367981%2C%20-81.76114399999999%5D%2C%20%5B40.911640999999996%2C%20-111.89123000000001%5D%2C%20%5B33.748145%2C%20-117.832148%5D%2C%20%5B45.766259000000005%2C%20-111.179055%5D%2C%20%5B25.884156%2C%20-80.351927%5D%2C%20%5B25.94975%2C%20-80.43205%5D%2C%20%5B42.492259999999995%2C%20-82.99894%5D%2C%20%5B33.71134%2C%20-84.21434%5D%2C%20%5B44.85862%2C%20-93.3451%5D%2C%20%5B39.88766%2C%20-86.30181999999999%5D%2C%20%5B25.82284%2C%20-80.32151999999999%5D%2C%20%5B36.75507%2C%20-121.7438%5D%2C%20%5B30.00814%2C%20-95.26644%5D%2C%20%5B30.525029999999997%2C%20-90.993162%5D%2C%20%5B33.494991999999996%2C%20-112.134225%5D%2C%20%5B40.62607%2C%20-112.29245%5D%2C%20%5B36.076840000000004%2C%20-87.02346%5D%2C%20%5B32.84041%2C%20-116.77472%5D%2C%20%5B44.878302000000005%2C%20-93.414183%5D%2C%20%5B37.75452%2C%20-121.14667%5D%2C%20%5B41.02268%2C%20-74.22480999999999%5D%2C%20%5B41.81928%2C%20-71.38756%5D%2C%20%5B38.055489%2C%20-79.116906%5D%2C%20%5B38.714456%2C%20-121.44574399999999%5D%2C%20%5B37.610395000000004%2C%20-112.933431%5D%2C%20%5B29.81285%2C%20-95.40279%5D%2C%20%5B38.48762%2C%20-112.61828%5D%2C%20%5B32.83876%2C%20-117.14641999999999%5D%2C%20%5B35.71203%2C%20-81.306859%5D%2C%20%5B39.76907%2C%20-77.02192%5D%2C%20%5B26.325%2C%20-80.11683000000001%5D%2C%20%5B38.41278%2C%20-81.564327%5D%2C%20%5B38.061312%2C%20-122.225163%5D%2C%20%5B25.94225%2C%20-80.345474%5D%2C%20%5B33.896214%2C%20-118.18765400000001%5D%2C%20%5B36.931178%2C%20-76.31782%5D%2C%20%5B33.622840000000004%2C%20-117.91426000000001%5D%2C%20%5B41.230779%2C%20-111.97865%5D%2C%20%5B38.76021%2C%20-77.18327%5D%2C%20%5B33.842042%2C%20-118.28625100000001%5D%2C%20%5B32.770351%2C%20-96.818725%5D%2C%20%5B45.598240000000004%2C%20-121.13871%5D%2C%20%5B32.91722%2C%20-96.76663%5D%2C%20%5B45.127834%2C%20-117.96386299999999%5D%2C%20%5B40.260346000000006%2C%20-111.704967%5D%2C%20%5B39.964002%2C%20-77.378136%5D%2C%20%5B44.247471999999995%2C%20-120.97361399999998%5D%2C%20%5B26.546767%2C%20-81.82609599999999%5D%2C%20%5B33.443251000000004%2C%20-86.732136%5D%2C%20%5B35.344356%2C%20-119.039654%5D%2C%20%5B39.64435%2C%20-106.37796999999999%5D%2C%20%5B38.560583%2C%20-121.458317%5D%2C%20%5B46.755906%2C%20-92.233416%5D%2C%20%5B41.448873999999996%2C%20-122.363506%5D%2C%20%5B42.40245%2C%20-123.44673999999999%5D%2C%20%5B39.77133%2C%20-104.99073%5D%2C%20%5B37.58867%2C%20-121.87105%5D%2C%20%5B38.856809999999996%2C%20-98.58493%5D%2C%20%5B33.88901%2C%20-117.88046100000001%5D%2C%20%5B28.197643%2C%20-82.434298%5D%2C%20%5B41.718140000000005%2C%20-72.649828%5D%2C%20%5B40.155383%2C%20-80.127013%5D%2C%20%5B42.3354%2C%20-83.06371999999999%5D%2C%20%5B40.837853%2C%20-73.881266%5D%2C%20%5B37.341794%2C%20-121.72169299999999%5D%2C%20%5B35.341225%2C%20-118.843199%5D%2C%20%5B45.50128%2C%20-122.9388%5D%2C%20%5B48.03268%2C%20-116.64415%5D%2C%20%5B38.636907%2C%20-121.062221%5D%2C%20%5B33.767945000000005%2C%20-117.920267%5D%2C%20%5B39.3587%2C%20-76.50393000000001%5D%2C%20%5B42.98668%2C%20-121.826394%5D%2C%20%5B46.78532%2C%20-117.93686399999999%5D%2C%20%5B43.160259%2C%20-123.36541000000001%5D%2C%20%5B34.3669%2C%20-80.99664%5D%2C%20%5B33.97465%2C%20-118.28421100000001%5D%2C%20%5B43.000034%2C%20-85.67035%5D%2C%20%5B33.88242%2C%20-79.452703%5D%2C%20%5B34.390164%2C%20-103.079861%5D%2C%20%5B33.582509%2C%20-86.705589%5D%2C%20%5B44.84406%2C%20-93.05946%5D%2C%20%5B36.874629999999996%2C%20-76.19738000000001%5D%2C%20%5B39.898379999999996%2C%20-86.05184%5D%2C%20%5B30.456167999999998%2C%20-91.097818%5D%2C%20%5B32.89452%2C%20-96.71174%5D%2C%20%5B35.3058%2C%20-80.7496%5D%2C%20%5B37.33121%2C%20-120.540838%5D%2C%20%5B41.57007%2C%20-87.41978%5D%2C%20%5B28.414371999999997%2C%20-81.422984%5D%2C%20%5B32.22085%2C%20-110.77337%5D%2C%20%5B41.8818%2C%20-87.64555%5D%2C%20%5B42.687281%2C%20-73.71752099999999%5D%2C%20%5B33.394807%2C%20-111.89101000000001%5D%2C%20%5B34.109158%2C%20-117.981146%5D%2C%20%5B33.87332%2C%20-118.26483999999999%5D%2C%20%5B32.769073999999996%2C%20-96.824403%5D%2C%20%5B30.518790000000003%2C%20-87.272637%5D%2C%20%5B26.78065%2C%20-80.099062%5D%2C%20%5B34.064054%2C%20-117.54508999999999%5D%2C%20%5B33.915064%2C%20-98.489099%5D%2C%20%5B29.778066%2C%20-95.27887700000001%5D%2C%20%5B34.07145%2C%20-117.86818999999998%5D%2C%20%5B42.947653%2C%20-85.659094%5D%2C%20%5B35.9788%2C%20-119.95761999999999%5D%2C%20%5B43.0587%2C%20-77.65205%5D%2C%20%5B44.096872999999995%2C%20-121.301873%5D%2C%20%5B33.020618%2C%20-80.122711%5D%2C%20%5B33.980798%2C%20-118.39351200000002%5D%2C%20%5B34.203796999999994%2C%20-118.47346100000001%5D%2C%20%5B40.894490000000005%2C%20-74.24861%5D%2C%20%5B37.54162%2C%20-122.28509%5D%2C%20%5B29.98684%2C%20-98.92076999999999%5D%2C%20%5B39.4262%2C%20-77.48167%5D%2C%20%5B33.926660999999996%2C%20-118.178147%5D%2C%20%5B38.86716%2C%20-77.05044000000001%5D%2C%20%5B37.555816%2C%20-77.41811899999999%5D%2C%20%5B30.44758%2C%20-91.17990999999999%5D%2C%20%5B45.04513%2C%20-93.18904%5D%2C%20%5B34.803707%2C%20-80.96923000000001%5D%2C%20%5B41.79673%2C%20-87.8075%5D%2C%20%5B33.928169%2C%20-118.23916399999999%5D%2C%20%5B32.78037%2C%20-117.09281999999999%5D%2C%20%5B45.257939%2C%20-93.704351%5D%2C%20%5B43.0494%2C%20-123.33131999999999%5D%2C%20%5B26.323722999999998%2C%20-80.116385%5D%2C%20%5B43.600522%2C%20-116.570153%5D%2C%20%5B45.57235%2C%20-122.67877%5D%2C%20%5B25.765334%2C%20-80.263401%5D%2C%20%5B39.498090999999995%2C%20-77.57101800000001%5D%2C%20%5B39.98215%2C%20-76.72861999999999%5D%2C%20%5B45.02709%2C%20-122.78969%5D%2C%20%5B29.81392%2C%20-95.37013%5D%2C%20%5B33.943233%2C%20-118.280123%5D%2C%20%5B40.63863%2C%20-112.04641000000001%5D%2C%20%5B27.806418%2C%20-82.69749200000001%5D%2C%20%5B40.071740000000005%2C%20-83.13436%5D%2C%20%5B34.025347%2C%20-117.563451%5D%2C%20%5B29.33277%2C%20-98.4108%5D%2C%20%5B33.49364%2C%20-112.29025%5D%2C%20%5B37.882670000000005%2C%20-122.30814%5D%2C%20%5B42.47215%2C%20-83.11028%5D%2C%20%5B37.301086%2C%20-120.49383999999999%5D%2C%20%5B38.419185%2C%20-122.927377%5D%2C%20%5B34.09664%2C%20-81.22204%5D%2C%20%5B32.910140000000006%2C%20-96.88438000000001%5D%2C%20%5B32.87805%2C%20-96.89795%5D%2C%20%5B28.523683000000002%2C%20-81.330954%5D%2C%20%5B38.931509999999996%2C%20-94.70475%5D%2C%20%5B41.043046999999994%2C%20-111.65705600000001%5D%2C%20%5B34.19488%2C%20-117.41978999999999%5D%2C%20%5B34.030046999999996%2C%20-117.702501%5D%2C%20%5B39.0103%2C%20-84.63495%5D%2C%20%5B25.473801%2C%20-80.467502%5D%2C%20%5B33.65443%2C%20-78.97816999999999%5D%2C%20%5B34.247806%2C%20-118.425826%5D%2C%20%5B39.308191%2C%20-74.618657%5D%2C%20%5B41.06203%2C%20-81.50471%5D%2C%20%5B42.49198%2C%20-83.02223000000001%5D%2C%20%5B40.799948%2C%20-72.78815%5D%2C%20%5B33.350553999999995%2C%20-111.687427%5D%2C%20%5B40.86091%2C%20-74.3663%5D%2C%20%5B35.23979%2C%20-80.8859%5D%2C%20%5B46.829448%2C%20-100.810257%5D%2C%20%5B45.620257%2C%20-118.65576899999999%5D%2C%20%5B36.14148%2C%20-86.67041%5D%2C%20%5B25.688012%2C%20-80.384015%5D%2C%20%5B33.554548%2C%20-84.299285%5D%2C%20%5B30.589641999999998%2C%20-88.15799%5D%2C%20%5B39.427531%2C%20-121.68815900000001%5D%2C%20%5B40.66505%2C%20-111.90123%5D%2C%20%5B37.07277%2C%20-76.4393%5D%2C%20%5B25.883454999999998%2C%20-80.196354%5D%2C%20%5B34.003326%2C%20-117.55016%5D%2C%20%5B30.283962%2C%20-89.749738%5D%2C%20%5B37.340146999999995%2C%20-120.59668899999998%5D%2C%20%5B32.26531%2C%20-110.97204199999999%5D%2C%20%5B40.104655%2C%20-74.21910799999999%5D%2C%20%5B34.137428%2C%20-117.239516%5D%2C%20%5B35.769096000000005%2C%20-78.691314%5D%2C%20%5B36.153690999999995%2C%20-86.78778199999999%5D%2C%20%5B44.85846%2C%20-93.33144%5D%2C%20%5B39.02608%2C%20-94.69077%5D%2C%20%5B29.42578%2C%20-98.50104%5D%2C%20%5B29.979118%2C%20-95.717347%5D%2C%20%5B35.1544%2C%20-80.79500999999999%5D%2C%20%5B27.034129999999998%2C%20-82.208208%5D%2C%20%5B41.81244%2C%20-71.40697%5D%2C%20%5B34.352778%2C%20-119.30611100000002%5D%2C%20%5B33.69656%2C%20-84.40527%5D%2C%20%5B30.217557%2C%20-81.568934%5D%2C%20%5B48.414165000000004%2C%20-114.27894599999999%5D%2C%20%5B37.959146999999994%2C%20-77.632023%5D%2C%20%5B34.071940000000005%2C%20-118.08458%5D%2C%20%5B47.608408000000004%2C%20-122.330623%5D%2C%20%5B39.74662%2C%20-86.26472%5D%2C%20%5B33.508678%2C%20-113.000873%5D%2C%20%5B40.047595%2C%20-75.000252%5D%2C%20%5B43.873139%2C%20-121.400824%5D%2C%20%5B39.95687%2C%20-111.87971999999999%5D%2C%20%5B33.575061%2C%20-117.180779%5D%2C%20%5B33.547269%2C%20-117.67303500000001%5D%2C%20%5B38.93887%2C%20-94.53524%5D%2C%20%5B44.001498%2C%20-70.306943%5D%2C%20%5B40.740684%2C%20-123.254724%5D%2C%20%5B37.748578%2C%20-112.36091599999999%5D%2C%20%5B26.43423%2C%20-80.08966%5D%2C%20%5B33.187940000000005%2C%20-87.55739399999999%5D%2C%20%5B36.02428%2C%20-78.85244%5D%2C%20%5B30.488183000000003%2C%20-86.12248000000001%5D%2C%20%5B45.150682%2C%20-122.606346%5D%2C%20%5B27.275431%2C%20-82.44868000000001%5D%2C%20%5B27.960057%2C%20-82.78752800000001%5D%2C%20%5B27.827915%2C%20-82.330017%5D%2C%20%5B30.000279%2C%20-90.058562%5D%2C%20%5B35.12363%2C%20-80.98113000000001%5D%2C%20%5B33.775256%2C%20-118.12135%5D%2C%20%5B38.995403%2C%20-77.158237%5D%2C%20%5B34.365010999999996%2C%20-118.50346599999999%5D%2C%20%5B39.336040000000004%2C%20-76.73577%5D%2C%20%5B45.8367%2C%20-118.42126%5D%2C%20%5B28.527865999999996%2C%20-81.386077%5D%2C%20%5B39.11756%2C%20-122.902735%5D%2C%20%5B41.04457%2C%20-111.31216%5D%2C%20%5B41.647857%2C%20-124.112651%5D%2C%20%5B34.02807%2C%20-84.0506%5D%2C%20%5B35.82431%2C%20-78.31458%5D%2C%20%5B38.707462%2C%20-121.309018%5D%2C%20%5B37.731359999999995%2C%20-122.42383999999998%5D%2C%20%5B27.196340000000003%2C%20-82.4901%5D%2C%20%5B41.83242%2C%20-71.41703000000001%5D%2C%20%5B26.027267000000002%2C%20-80.165988%5D%2C%20%5B41.29443%2C%20-72.78475999999999%5D%2C%20%5B35.722614%2C%20-80.857561%5D%2C%20%5B40.64455%2C%20-74.28801999999999%5D%2C%20%5B33.400684999999996%2C%20-111.960769%5D%2C%20%5B41.222845%2C%20-111.978826%5D%2C%20%5B39.95435%2C%20-82.98651%5D%2C%20%5B39.783429999999996%2C%20-105.06275%5D%2C%20%5B39.35212%2C%20-76.74591%5D%2C%20%5B38.917361%2C%20-76.91774000000001%5D%2C%20%5B33.426858%2C%20-111.891278%5D%2C%20%5B45.41767%2C%20-122.4586%5D%2C%20%5B44.86229%2C%20-93.22309%5D%2C%20%5B33.802527000000005%2C%20-117.232553%5D%2C%20%5B43.95562%2C%20-92.27849%5D%2C%20%5B31.70396%2C%20-106.28681999999999%5D%2C%20%5B38.5176%2C%20-86.67912%5D%2C%20%5B42.7833%2C%20-73.74387%5D%2C%20%5B39.321795%2C%20-76.48178399999999%5D%2C%20%5B37.804094%2C%20-122.302755%5D%2C%20%5B32.90153%2C%20-96.8979%5D%2C%20%5B33.870775%2C%20-117.70346299999999%5D%2C%20%5B34.875133%2C%20-82.73194699999999%5D%2C%20%5B33.581074%2C%20-117.52874399999999%5D%2C%20%5B41.75654%2C%20-72.88218%5D%2C%20%5B25.919481%2C%20-80.293061%5D%2C%20%5B26.445453999999998%2C%20-80.089849%5D%2C%20%5B28.577790000000004%2C%20-81.46776%5D%2C%20%5B40.890819%2C%20-74.702871%5D%2C%20%5B33.939209999999996%2C%20-118.09539%5D%2C%20%5B29.80408%2C%20-95.44794%5D%2C%20%5B29.994970000000002%2C%20-90.10455%5D%2C%20%5B33.18235%2C%20-117.3236%5D%2C%20%5B41.186801%2C%20-74.03362%5D%2C%20%5B37.92223%2C%20-122.06138%5D%2C%20%5B44.96545%2C%20-93.26254%5D%2C%20%5B33.979202%2C%20-81.11421999999999%5D%2C%20%5B39.94644%2C%20-82.9434%5D%2C%20%5B39.859079%2C%20-75.355631%5D%2C%20%5B33.50911%2C%20-84.23495%5D%2C%20%5B37.317202%2C%20-121.94032%5D%2C%20%5B34.167675%2C%20-80.06174399999999%5D%2C%20%5B45.73056%2C%20-122.87593999999999%5D%2C%20%5B42.982092%2C%20-95.85973800000001%5D%2C%20%5B39.867471%2C%20-104.904652%5D%2C%20%5B34.058935%2C%20-80.96441999999999%5D%2C%20%5B39.728315%2C%20-74.240124%5D%2C%20%5B34.405190000000005%2C%20-118.57475%5D%2C%20%5B33.98571%2C%20-84.54356%5D%2C%20%5B45.613310999999996%2C%20-123.22801100000001%5D%2C%20%5B34.231708000000005%2C%20-118.404095%5D%2C%20%5B41.249759999999995%2C%20-76.92781%5D%2C%20%5B44.69393%2C%20-88.34151%5D%2C%20%5B47.372274%2C%20-92.510014%5D%2C%20%5B33.967997%2C%20-118.24766399999999%5D%2C%20%5B29.967297%2C%20-90.02029300000001%5D%2C%20%5B33.853953000000004%2C%20-117.94629199999999%5D%2C%20%5B45.515570000000004%2C%20-122.79831000000001%5D%2C%20%5B39.303087%2C%20-120.65668799999999%5D%2C%20%5B33.99712%2C%20-117.8657%5D%2C%20%5B36.8235%2C%20-76.432968%5D%2C%20%5B32.833965%2C%20-117.11928200000001%5D%2C%20%5B40.70173%2C%20-73.99109%5D%2C%20%5B33.4403%2C%20-86.81381%5D%2C%20%5B37.581699%2C%20-122.36178600000001%5D%2C%20%5B47.94308%2C%20-122.19735%5D%2C%20%5B26.084039%2C%20-80.168359%5D%2C%20%5B34.43714%2C%20-77.87313%5D%2C%20%5B30.2887%2C%20-81.6275%5D%2C%20%5B33.52366%2C%20-112.099695%5D%2C%20%5B34.365565999999994%2C%20-77.888148%5D%2C%20%5B37.884493%2C%20-79.288733%5D%2C%20%5B27.977939000000003%2C%20-82.38848%5D%2C%20%5B25.896481%2C%20-80.296787%5D%2C%20%5B33.0931%2C%20-97.02807%5D%2C%20%5B33.68543%2C%20-85.15809%5D%2C%20%5B44.938829999999996%2C%20-72.294349%5D%2C%20%5B34.991609999999994%2C%20-85.29021%5D%2C%20%5B38.7938%2C%20-77.17240100000001%5D%2C%20%5B38.828233000000004%2C%20-77.219762%5D%2C%20%5B32.429497999999995%2C%20-93.71597299999999%5D%2C%20%5B37.968594%2C%20-121.245157%5D%2C%20%5B27.770968%2C%20-82.690718%5D%2C%20%5B38.376542%2C%20-112.662101%5D%2C%20%5B33.778419%2C%20-117.896252%5D%2C%20%5B40.696481%2C%20-74.369941%5D%2C%20%5B36.191872%2C%20-86.780587%5D%2C%20%5B33.88909%2C%20-118.28536000000001%5D%2C%20%5B35.34877%2C%20-97.52995%5D%2C%20%5B41.509675%2C%20-74.074523%5D%2C%20%5B28.59635%2C%20-81.45141%5D%2C%20%5B32.914552%2C%20-117.23021499999999%5D%2C%20%5B34.05664%2C%20-84.59952%5D%2C%20%5B36.79255%2C%20-120.44499099999999%5D%2C%20%5B42.494341999999996%2C%20-83.29418199999999%5D%2C%20%5B41.97486%2C%20-88.22277%5D%2C%20%5B35.19481%2C%20-80.76629%5D%2C%20%5B34.99157%2C%20-82.24529%5D%2C%20%5B37.732277%2C%20-122.414904%5D%2C%20%5B37.441703000000004%2C%20-121.889973%5D%2C%20%5B41.400420000000004%2C%20-81.50844000000001%5D%2C%20%5B33.42237%2C%20-111.63266999999999%5D%2C%20%5B32.924292%2C%20-97.31727%5D%2C%20%5B37.4586%2C%20-121.92414%5D%2C%20%5B33.924679%2C%20-117.655378%5D%2C%20%5B28.382456%2C%20-81.391025%5D%2C%20%5B34.11853%2C%20-117.84168999999999%5D%2C%20%5B39.7257%2C%20-105.06103600000002%5D%2C%20%5B39.242478000000006%2C%20-76.57935%5D%2C%20%5B33.846608%2C%20-118.20538700000002%5D%2C%20%5B37.529325%2C%20-122.273703%5D%2C%20%5B35.609840000000005%2C%20-97.56709000000001%5D%2C%20%5B33.933005%2C%20-118.349209%5D%2C%20%5B30.523359000000003%2C%20-87.27408100000001%5D%2C%20%5B36.767666%2C%20-76.236599%5D%2C%20%5B32.88001%2C%20-96.772755%5D%2C%20%5B32.760558%2C%20-117.194073%5D%2C%20%5B37.434156%2C%20-77.439482%5D%2C%20%5B40.746320000000004%2C%20-73.86825%5D%2C%20%5B42.388723999999996%2C%20-83.10289300000001%5D%2C%20%5B29.97621%2C%20-90.0911%5D%2C%20%5B34.095154%2C%20-117.302047%5D%2C%20%5B45.511416%2C%20-122.705996%5D%2C%20%5B41.032251%2C%20-73.752175%5D%2C%20%5B41.591234%2C%20-93.67439%5D%2C%20%5B35.318546000000005%2C%20-119.00294299999999%5D%2C%20%5B29.772709999999996%2C%20-95.2315%5D%2C%20%5B36.296428000000006%2C%20-115.28438899999999%5D%2C%20%5B38.865159000000006%2C%20-77.220348%5D%2C%20%5B34.77975%2C%20-92.26422%5D%2C%20%5B34.282692%2C%20-118.468727%5D%2C%20%5B39.832621%2C%20-83.00018%5D%2C%20%5B40.83899%2C%20-73.27914%5D%2C%20%5B26.37208%2C%20-80.17079%5D%2C%20%5B40.070694%2C%20-75.322168%5D%2C%20%5B33.039848%2C%20-117.283718%5D%2C%20%5B39.820809999999994%2C%20-85.77620999999999%5D%2C%20%5B39.874995%2C%20-75.047124%5D%2C%20%5B37.627508%2C%20-121.880096%5D%2C%20%5B38.22072%2C%20-122.13224%5D%2C%20%5B34.37438%2C%20-118.91566%5D%2C%20%5B28.217209999999998%2C%20-82.69367%5D%2C%20%5B40.72797%2C%20-73.75262%5D%2C%20%5B41.81413%2C%20-71.3671%5D%2C%20%5B47.6809%2C%20-122.69057%5D%2C%20%5B30.445221999999998%2C%20-87.240913%5D%2C%20%5B45.61295%2C%20-122.67813999999998%5D%2C%20%5B30.348921%2C%20-97.549696%5D%2C%20%5B34.151425%2C%20-118.147217%5D%2C%20%5B46.67935%2C%20-92.78719%5D%2C%20%5B38.6167%2C%20-121.42048%5D%2C%20%5B38.862901%2C%20-76.848453%5D%2C%20%5B34.121164%2C%20-117.832242%5D%2C%20%5B34.13308%2C%20-117.19431000000002%5D%2C%20%5B28.472490999999998%2C%20-81.409154%5D%2C%20%5B41.025259999999996%2C%20-83.67514%5D%2C%20%5B39.007195%2C%20-122.61226200000002%5D%2C%20%5B39.01623%2C%20-94.12458000000001%5D%2C%20%5B40.76785%2C%20-74.02175%5D%2C%20%5B34.090775%2C%20-118.30657%5D%2C%20%5B35.847605%2C%20-78.794535%5D%2C%20%5B32.090231%2C%20-110.959349%5D%2C%20%5B45.12482%2C%20-93.21324%5D%2C%20%5B40.09738%2C%20-74.14263000000001%5D%2C%20%5B44.862881%2C%20-122.88509099999999%5D%2C%20%5B40.681686%2C%20-73.848626%5D%2C%20%5B25.671042%2C%20-80.41116600000001%5D%2C%20%5B39.12143%2C%20-76.54819%5D%2C%20%5B47.4576%2C%20-122.26341000000001%5D%2C%20%5B41.49674%2C%20-94.45259%5D%2C%20%5B30.71883%2C%20-85.17398100000001%5D%2C%20%5B38.666437%2C%20-121.364401%5D%2C%20%5B33.818083%2C%20-117.876166%5D%2C%20%5B38.065269%2C%20-78.9555%5D%2C%20%5B34.085322999999995%2C%20-117.690279%5D%2C%20%5B36.154090000000004%2C%20-86.838%5D%2C%20%5B29.721662%2C%20-95.517965%5D%2C%20%5B33.902734%2C%20-117.46373999999999%5D%2C%20%5B40.008328000000006%2C%20-75.211114%5D%2C%20%5B41.76116%2C%20-87.89331999999999%5D%2C%20%5B39.855470000000004%2C%20-86.19563000000001%5D%2C%20%5B38.360409999999995%2C%20-81.63053000000001%5D%2C%20%5B45.50442%2C%20-122.56546000000002%5D%2C%20%5B36.975688%2C%20-121.89804699999999%5D%2C%20%5B38.561068%2C%20-121.48292099999999%5D%2C%20%5B40.66905%2C%20-74.37191999999999%5D%2C%20%5B35.93572%2C%20-79.33326%5D%2C%20%5B37.319379999999995%2C%20-121.99306999999999%5D%2C%20%5B38.24987%2C%20-77.46444100000001%5D%2C%20%5B37.813098%2C%20-122.36171000000002%5D%2C%20%5B33.919855%2C%20-118.283054%5D%2C%20%5B47.297059000000004%2C%20-115.171393%5D%2C%20%5B28.388226%2C%20-81.404655%5D%2C%20%5B36.876476000000004%2C%20-76.199083%5D%2C%20%5B37.934915000000004%2C%20-122.059684%5D%2C%20%5B30.196914000000003%2C%20-97.76073199999999%5D%2C%20%5B27.993990000000004%2C%20-80.62740600000001%5D%2C%20%5B34.903003999999996%2C%20-82.12600400000001%5D%2C%20%5B28.451529999999998%2C%20-81.09501%5D%2C%20%5B32.77956%2C%20-97.06116%5D%2C%20%5B42.643788%2C%20-122.80923%5D%2C%20%5B33.84778%2C%20-117.81778%5D%2C%20%5B45.52995%2C%20-122.614299%5D%2C%20%5B25.68887%2C%20-80.35042800000001%5D%2C%20%5B39.72542%2C%20-105.02200400000001%5D%2C%20%5B32.888731%2C%20-80.68878199999999%5D%2C%20%5B44.308328%2C%20-121.1724%5D%2C%20%5B33.798352%2C%20-84.392376%5D%2C%20%5B39.260472%2C%20-76.579139%5D%2C%20%5B39.946238%2C%20-75.189461%5D%2C%20%5B34.87272%2C%20-82.32923000000001%5D%2C%20%5B41.603429%2C%20-93.77678%5D%2C%20%5B32.683979%2C%20-97.436899%5D%2C%20%5B32.83948%2C%20-97.32086%5D%2C%20%5B33.09666%2C%20-96.67965%5D%2C%20%5B41.90906%2C%20-87.92896%5D%2C%20%5B42.29582%2C%20-123.61233%5D%2C%20%5B29.744484000000003%2C%20-95.362539%5D%2C%20%5B34.076901%2C%20-117.200829%5D%2C%20%5B34.06451%2C%20-118.0039%5D%2C%20%5B44.95174%2C%20-93.16707%5D%2C%20%5B38.035109999999996%2C%20-120.649824%5D%2C%20%5B44.95172%2C%20-93.40052%5D%2C%20%5B34.165014%2C%20-118.474892%5D%2C%20%5B43.284572999999995%2C%20-73.641643%5D%2C%20%5B38.819790000000005%2C%20-76.89375%5D%2C%20%5B45.01767%2C%20-122.976293%5D%2C%20%5B33.847833%2C%20-117.855511%5D%2C%20%5B29.87957%2C%20-95.56912%5D%2C%20%5B44.41294%2C%20-119.058856%5D%2C%20%5B31.749596999999998%2C%20-106.34056399999999%5D%2C%20%5B35.03363%2C%20-80.80541%5D%2C%20%5B33.884445%2C%20-117.88063999999999%5D%2C%20%5B41.26828%2C%20-73.69869399999999%5D%2C%20%5B33.841356%2C%20-118.26549399999999%5D%2C%20%5B29.494031%2C%20-82.29368000000001%5D%2C%20%5B44.030182%2C%20-71.704029%5D%2C%20%5B41.622849%2C%20-78.828122%5D%2C%20%5B39.418436%2C%20-83.76428299999999%5D%2C%20%5B40.071244%2C%20-76.24242%5D%2C%20%5B39.04728%2C%20-94.44762%5D%2C%20%5B46.360396%2C%20-111.549396%5D%2C%20%5B38.581314%2C%20-121.463473%5D%2C%20%5B38.481195%2C%20-121.505149%5D%2C%20%5B45.50257%2C%20-122.56516%5D%2C%20%5B42.0123%2C%20-87.68307%5D%2C%20%5B39.15402%2C%20-120.88931000000001%5D%2C%20%5B30.385471000000003%2C%20-97.673252%5D%2C%20%5B33.604477%2C%20-117.69056100000002%5D%2C%20%5B38.643615000000004%2C%20-121.10885800000001%5D%2C%20%5B42.62627%2C%20-123.38333%5D%2C%20%5B33.70167%2C%20-84.10795%5D%2C%20%5B38.493572%2C%20-122.75238300000001%5D%2C%20%5B32.25063%2C%20-110.9097%5D%2C%20%5B40.7775%2C%20-73.94266999999999%5D%2C%20%5B25.588787%2C%20-80.359162%5D%2C%20%5B26.096423%2C%20-80.23737%5D%2C%20%5B34.022024%2C%20-117.33708600000001%5D%2C%20%5B29.972891999999998%2C%20-90.05255600000001%5D%2C%20%5B36.266334%2C%20-80.212896%5D%2C%20%5B31.71984%2C%20-106.30528999999999%5D%2C%20%5B47.753029999999995%2C%20-122.33008999999998%5D%2C%20%5B33.970687%2C%20-117.375276%5D%2C%20%5B45.166578%2C%20-93.39133100000001%5D%2C%20%5B41.228629999999995%2C%20-112.01418000000001%5D%2C%20%5B38.933147999999996%2C%20-94.522186%5D%2C%20%5B32.66902%2C%20-86.25334000000001%5D%2C%20%5B39.7722%2C%20-84.18876%5D%2C%20%5B28.04908%2C%20-82.720609%5D%2C%20%5B38.7438%2C%20-90.40004%5D%2C%20%5B33.89561%2C%20-84.4516%5D%2C%20%5B33.91137%2C%20-118.16769%5D%2C%20%5B25.699599%2C%20-80.382101%5D%2C%20%5B37.737337%2C%20-122.19332800000001%5D%2C%20%5B37.694396999999995%2C%20-121.920222%5D%2C%20%5B41.755289000000005%2C%20-87.959117%5D%2C%20%5B34.059465%2C%20-80.972738%5D%2C%20%5B39.800145%2C%20-104.985532%5D%2C%20%5B34.81857%2C%20-82.29072%5D%2C%20%5B35.310863%2C%20-119.252439%5D%2C%20%5B38.900194%2C%20-76.986152%5D%2C%20%5B39.9678%2C%20-85.98849799999999%5D%2C%20%5B37.784209999999995%2C%20-122.43456%5D%2C%20%5B35.973555%2C%20-78.687141%5D%2C%20%5B34.269870000000004%2C%20-118.43222%5D%2C%20%5B40.30785%2C%20-79.57101%5D%2C%20%5B44.032202000000005%2C%20-123.849479%5D%2C%20%5B27.137597999999997%2C%20-82.417047%5D%2C%20%5B29.75181%2C%20-95.45576%5D%2C%20%5B44.791364%2C%20-122.63222900000001%5D%2C%20%5B45.597578000000006%2C%20-122.684408%5D%2C%20%5B34.07503%2C%20-80.946074%5D%2C%20%5B35.27165%2C%20-80.85146999999999%5D%2C%20%5B38.22488%2C%20-122.1259%5D%2C%20%5B37.816004%2C%20-121.294308%5D%2C%20%5B42.15416%2C%20-88.03926%5D%2C%20%5B39.76347%2C%20-105.58062%5D%2C%20%5B36.732302000000004%2C%20-121.597342%5D%2C%20%5B35.251259999999995%2C%20-80.89443%5D%2C%20%5B29.01762%2C%20-81.22792%5D%2C%20%5B37.892761%2C%20-122.064902%5D%2C%20%5B33.87611%2C%20-118.16531%5D%2C%20%5B38.685190000000006%2C%20-121.22548799999998%5D%2C%20%5B39.98348%2C%20-75.9324%5D%2C%20%5B40.97503%2C%20-73.70294%5D%2C%20%5B34.319790000000005%2C%20-118.49444%5D%2C%20%5B40.644836%2C%20-79.658077%5D%2C%20%5B42.09762%2C%20-72.5881%5D%2C%20%5B33.901609%2C%20-117.46739699999999%5D%2C%20%5B33.189677%2C%20-87.458422%5D%2C%20%5B40.70825%2C%20-73.62453000000001%5D%2C%20%5B34.012244%2C%20-118.497194%5D%2C%20%5B33.72911%2C%20-117.834194%5D%2C%20%5B48.156518%2C%20-122.279552%5D%2C%20%5B33.314027%2C%20-117.152751%5D%2C%20%5B41.453790000000005%2C%20-112.03868%5D%2C%20%5B26.949662%2C%20-80.162235%5D%2C%20%5B29.937820000000002%2C%20-95.44847%5D%2C%20%5B41.8334%2C%20-88.02566999999999%5D%2C%20%5B33.2483%2C%20-84.44609%5D%2C%20%5B38.42587%2C%20-121.48715%5D%2C%20%5B37.670373%2C%20-122.102898%5D%2C%20%5B37.068875%2C%20-121.212271%5D%2C%20%5B32.673758%2C%20-117.11008400000001%5D%2C%20%5B34.01938%2C%20-118.17329%5D%2C%20%5B25.768632%2C%20-80.366883%5D%2C%20%5B34.144225%2C%20-118.471376%5D%2C%20%5B25.903154%2C%20-80.324381%5D%2C%20%5B35.412248999999996%2C%20-119.058847%5D%2C%20%5B41.11971%2C%20-112.06452%5D%2C%20%5B34.148544%2C%20-118.067182%5D%2C%20%5B34.184271%2C%20-118.907572%5D%2C%20%5B35.48088%2C%20-80.85769499999999%5D%2C%20%5B37.772062%2C%20-122.22481200000001%5D%2C%20%5B47.534733%2C%20-95.0132%5D%2C%20%5B39.111476%2C%20-108.64633500000001%5D%2C%20%5B34.773761%2C%20-92.261747%5D%2C%20%5B29.548109999999998%2C%20-81.21471%5D%2C%20%5B30.428511%2C%20-84.28065500000001%5D%2C%20%5B37.473157%2C%20-122.20385%5D%2C%20%5B35.290493%2C%20-82.686605%5D%2C%20%5B37.727813%2C%20-122.40291100000002%5D%2C%20%5B33.955532%2C%20-117.38122299999999%5D%2C%20%5B30.166729999999998%2C%20-81.55764%5D%2C%20%5B33.87984%2C%20-118.3473%5D%2C%20%5B40.816990000000004%2C%20-111.91888999999999%5D%2C%20%5B34.862671%2C%20-118.16438899999999%5D%2C%20%5B26.547508%2C%20-81.785103%5D%2C%20%5B29.651882%2C%20-95.265098%5D%2C%20%5B33.583726%2C%20-117.630766%5D%2C%20%5B45.088483000000004%2C%20-117.949881%5D%2C%20%5B27.30828%2C%20-82.53003000000001%5D%2C%20%5B38.588995000000004%2C%20-121.545732%5D%2C%20%5B44.317876%2C%20-122.00243300000001%5D%2C%20%5B38.641721999999994%2C%20-77.28814100000001%5D%2C%20%5B25.890466%2C%20-80.194618%5D%2C%20%5B32.873757%2C%20-96.523987%5D%2C%20%5B47.245581%2C%20-122.25578700000001%5D%2C%20%5B43.29596%2C%20-124.21618000000001%5D%2C%20%5B34.26295%2C%20-84.08718%5D%2C%20%5B30.478690000000004%2C%20-84.35772%5D%2C%20%5B25.892903%2C%20-80.16687399999999%5D%2C%20%5B33.189686%2C%20-117.363327%5D%2C%20%5B33.994228%2C%20-117.88854099999999%5D%2C%20%5B39.4178%2C%20-76.79796%5D%2C%20%5B28.450359999999996%2C%20-81.40117%5D%2C%20%5B42.42897%2C%20-87.93811%5D%2C%20%5B45.418811%2C%20-122.7439%5D%2C%20%5B38.007427%2C%20-121.35228700000002%5D%2C%20%5B42.66983%2C%20-73.73818%5D%2C%20%5B41.045759999999994%2C%20-73.79302%5D%2C%20%5B30.73256%2C%20-86.35659%5D%2C%20%5B33.8508%2C%20-117.84365%5D%2C%20%5B45.533846999999994%2C%20-122.580483%5D%2C%20%5B34.03911%2C%20-86.86950999999999%5D%2C%20%5B47.241009999999996%2C%20-122.38043%5D%2C%20%5B30.416234000000003%2C%20-97.69686%5D%2C%20%5B40.68725%2C%20-73.61726%5D%2C%20%5B39.02562%2C%20-84.53455%5D%2C%20%5B38.022870000000005%2C%20-79.14445%5D%2C%20%5B25.873922%2C%20-80.180882%5D%2C%20%5B33.74265%2C%20-84.40348%5D%2C%20%5B32.90902%2C%20-117.116478%5D%2C%20%5B41.809670000000004%2C%20-88.07504%5D%2C%20%5B42.58132%2C%20-71.15496%5D%2C%20%5B25.84018%2C%20-80.206127%5D%2C%20%5B36.141797%2C%20-86.733467%5D%2C%20%5B33.201409999999996%2C%20-117.1284%5D%2C%20%5B37.51958%2C%20-77.43766%5D%2C%20%5B27.996140000000004%2C%20-82.37305%5D%2C%20%5B34.119959%2C%20-117.78666399999999%5D%2C%20%5B40.583701%2C%20-111.89993999999999%5D%2C%20%5B33.728159999999995%2C%20-117.80793%5D%2C%20%5B34.21414%2C%20-80.98191%5D%2C%20%5B38.409738%2C%20-82.351614%5D%2C%20%5B36.864141%2C%20-76.195195%5D%2C%20%5B34.15952%2C%20-118.46386000000001%5D%2C%20%5B33.462283%2C%20-80.445966%5D%2C%20%5B33.25865%2C%20-84.11418%5D%2C%20%5B29.925144%2C%20-95.407199%5D%2C%20%5B36.874629999999996%2C%20-76.19738000000001%5D%2C%20%5B41.901703999999995%2C%20-87.623094%5D%2C%20%5B35.269982%2C%20-117.56423799999999%5D%2C%20%5B36.02029%2C%20-115.25877%5D%2C%20%5B39.94575%2C%20-83.01369%5D%2C%20%5B39.861979999999996%2C%20-79.05700999999999%5D%2C%20%5B42.27185%2C%20-88.19596800000001%5D%2C%20%5B45.55981%2C%20-122.25036000000001%5D%2C%20%5B45.072908%2C%20-93.313712%5D%2C%20%5B45.120799%2C%20-93.18838199999999%5D%2C%20%5B40.485519000000004%2C%20-78.738279%5D%2C%20%5B38.87592%2C%20-90.90799999999999%5D%2C%20%5B33.708575%2C%20-117.85159499999999%5D%2C%20%5B40.600502%2C%20-74.62606600000001%5D%2C%20%5B41.90763%2C%20-87.88025999999999%5D%2C%20%5B29.709746000000003%2C%20-95.515684%5D%2C%20%5B35.24923%2C%20-80.85651999999999%5D%2C%20%5B33.876490000000004%2C%20-118.10237%5D%2C%20%5B42.387807%2C%20-87.963265%5D%2C%20%5B34.36501%2C%20-118.50347%5D%2C%20%5B33.894649%2C%20-118.326516%5D%2C%20%5B43.39243%2C%20-123.35779699999999%5D%2C%20%5B36.091409000000006%2C%20-86.735038%5D%2C%20%5B35.006657000000004%2C%20-118.95156000000001%5D%2C%20%5B34.498036%2C%20-118.226992%5D%2C%20%5B32.72664%2C%20-117.15645%5D%2C%20%5B36.462227%2C%20-121.71056200000001%5D%2C%20%5B44.969552%2C%20-93.30533100000001%5D%2C%20%5B34.03425%2C%20-118.36425%5D%2C%20%5B38.545393%2C%20-121.47378%5D%2C%20%5B26.93621%2C%20-80.15433%5D%2C%20%5B25.787776%2C%20-80.203124%5D%2C%20%5B33.83948%2C%20-84.48706999999999%5D%2C%20%5B37.509453%2C%20-122.34448200000001%5D%2C%20%5B42.92005%2C%20-85.76009%5D%2C%20%5B39.389427000000005%2C%20-76.529393%5D%2C%20%5B41.734237%2C%20-87.645883%5D%2C%20%5B25.79319%2C%20-80.20551999999999%5D%2C%20%5B46.16083%2C%20-123.43162%5D%2C%20%5B41.440337%2C%20-122.385783%5D%2C%20%5B25.621136%2C%20-80.378648%5D%2C%20%5B41.62771%2C%20-93.60053%5D%2C%20%5B33.997589000000005%2C%20-118.06834099999999%5D%2C%20%5B31.759890000000002%2C%20-106.27009%5D%2C%20%5B40.731912%2C%20-74.04616899999999%5D%2C%20%5B33.6728%2C%20-111.98856%5D%2C%20%5B35.256914%2C%20-80.794445%5D%2C%20%5B38.26587%2C%20-122.46189%5D%2C%20%5B33.92559%2C%20-117.42281000000001%5D%2C%20%5B28.021734000000002%2C%20-82.250057%5D%2C%20%5B34.181846%2C%20-93.073114%5D%2C%20%5B36.173%2C%20-80.25953%5D%2C%20%5B40.731146%2C%20-78.693433%5D%2C%20%5B26.07641%2C%20-80.16853%5D%2C%20%5B34.001940999999995%2C%20-118.066589%5D%5D%2C%0A%20%20%20%20%20%20%20%20%20%20%20%20%20%20%20%20%7B%0A%20%20%20%20%20%20%20%20%20%20%20%20%20%20%20%20%20%20%20%20minOpacity%3A%200.5%2C%0A%20%20%20%20%20%20%20%20%20%20%20%20%20%20%20%20%20%20%20%20maxZoom%3A%2018%2C%0A%20%20%20%20%20%20%20%20%20%20%20%20%20%20%20%20%20%20%20%20max%3A%201.0%2C%0A%20%20%20%20%20%20%20%20%20%20%20%20%20%20%20%20%20%20%20%20radius%3A%2025%2C%0A%20%20%20%20%20%20%20%20%20%20%20%20%20%20%20%20%20%20%20%20blur%3A%2015%2C%0A%20%20%20%20%20%20%20%20%20%20%20%20%20%20%20%20%20%20%20%20gradient%3A%20null%0A%20%20%20%20%20%20%20%20%20%20%20%20%20%20%20%20%20%20%20%20%7D%29%0A%20%20%20%20%20%20%20%20%20%20%20%20%20%20%20%20.addTo%28map_c0c62f7c9d804412bd80eb5b046028f1%29%3B%0A%20%20%20%20%20%20%20%20%0A%3C/script%3E onload=\"this.contentDocument.open();this.contentDocument.write(    decodeURIComponent(this.getAttribute('data-html')));this.contentDocument.close();\" allowfullscreen webkitallowfullscreen mozallowfullscreen></iframe></div></div>"
            ],
            "text/plain": [
              "<folium.folium.Map at 0x7f6bbc64dbd0>"
            ]
          },
          "metadata": {},
          "execution_count": 60
        }
      ]
    },
    {
      "cell_type": "code",
      "metadata": {
        "id": "5sFgjMP67Fdn"
      },
      "source": [
        ""
      ],
      "execution_count": null,
      "outputs": []
    },
    {
      "cell_type": "markdown",
      "metadata": {
        "id": "AhkxNB0wp01p"
      },
      "source": [
        "## Ask & answer questions\n",
        "\n",
        "1. Are there more accidents in warmer or colder areas?\n",
        "2. Which 5 states have the highest number of accidents? How about per capita?\n",
        "3. Does New York show up in the data? If yes, why is the count lower if this the most populated city.\n",
        "4. Among the top 100 cities in number of accidents, which states do they belong to most frequently.\n",
        "5. What time of the day are accidents most frequent in? - ANSWERED\n",
        "6. Which days of the week have the most accidents?\n",
        "7. Which months have the most accidents?\n",
        "8. What is the trend of accidents year over year (decreasing/increasing?)\n",
        "9. When is accidents per unit of traffic the highest."
      ]
    },
    {
      "cell_type": "code",
      "metadata": {
        "id": "It60ZMcip0hR"
      },
      "source": [
        ""
      ],
      "execution_count": null,
      "outputs": []
    },
    {
      "cell_type": "code",
      "metadata": {
        "id": "lWGs_Wubp0d3"
      },
      "source": [
        ""
      ],
      "execution_count": null,
      "outputs": []
    },
    {
      "cell_type": "code",
      "metadata": {
        "id": "LOxZLGutp0by"
      },
      "source": [
        ""
      ],
      "execution_count": null,
      "outputs": []
    },
    {
      "cell_type": "markdown",
      "metadata": {
        "id": "y9Er95ECp_El"
      },
      "source": [
        "## Summary and Conclusion\n",
        "\n",
        "\n",
        "Insights:\n",
        "- No data from New York\n",
        "- The number of accidents per city decreases exponentially\n",
        "- Less than 5% of cities have more than 1000 yearly accidents.\n",
        "- Over 1200 cities have reported just one accident (need to investigate)"
      ]
    },
    {
      "cell_type": "code",
      "metadata": {
        "id": "l-LsPnfl6vN4"
      },
      "source": [
        ""
      ],
      "execution_count": null,
      "outputs": []
    },
    {
      "cell_type": "code",
      "metadata": {
        "id": "4JCn3yxG6vJd"
      },
      "source": [
        "import jovian"
      ],
      "execution_count": null,
      "outputs": []
    },
    {
      "cell_type": "code",
      "metadata": {
        "colab": {
          "base_uri": "https://localhost:8080/",
          "height": 86
        },
        "id": "omnOwQ5j6vHI",
        "outputId": "9cd1b0ed-a92a-4cbc-9cfe-ae9f22442a06"
      },
      "source": [
        "jovian.commit()"
      ],
      "execution_count": null,
      "outputs": [
        {
          "output_type": "stream",
          "name": "stdout",
          "text": [
            "[jovian] Detected Colab notebook...\u001b[0m\n",
            "[jovian] Uploading colab notebook to Jovian...\u001b[0m\n",
            "Committed successfully! https://jovian.ai/walidsobhi56/us-accidents-analysis\n"
          ]
        },
        {
          "output_type": "execute_result",
          "data": {
            "application/vnd.google.colaboratory.intrinsic+json": {
              "type": "string"
            },
            "text/plain": [
              "'https://jovian.ai/walidsobhi56/us-accidents-analysis'"
            ]
          },
          "metadata": {},
          "execution_count": 61
        }
      ]
    },
    {
      "cell_type": "code",
      "metadata": {
        "id": "PVjThD5373_x"
      },
      "source": [
        ""
      ],
      "execution_count": null,
      "outputs": []
    }
  ]
}